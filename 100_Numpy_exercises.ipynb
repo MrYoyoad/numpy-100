{
 "cells": [
  {
   "cell_type": "markdown",
   "id": "6293cc50",
   "metadata": {},
   "source": [
    "# 100 numpy exercises\n",
    "\n",
    "This is a collection of exercises that have been collected in the numpy mailing list, on stack overflow\n",
    "and in the numpy documentation. The goal of this collection is to offer a quick reference for both old\n",
    "and new users but also to provide a set of exercises for those who teach.\n",
    "\n",
    "\n",
    "If you find an error or think you've a better way to solve some of them, feel\n",
    "free to open an issue at <https://github.com/rougier/numpy-100>."
   ]
  },
  {
   "cell_type": "markdown",
   "id": "a167c052",
   "metadata": {},
   "source": [
    "File automatically generated. See the documentation to update questions/answers/hints programmatically."
   ]
  },
  {
   "cell_type": "markdown",
   "id": "57fc0ee5",
   "metadata": {},
   "source": [
    "Run the `initialize.py` module, then for each question you can query the\n",
    "answer or an hint with `hint(n)` or `answer(n)` for `n` question number."
   ]
  },
  {
   "cell_type": "code",
   "execution_count": 3,
   "id": "3d46fba2",
   "metadata": {},
   "outputs": [
    {
     "ename": "ModuleNotFoundError",
     "evalue": "No module named 'nbformat'",
     "output_type": "error",
     "traceback": [
      "\u001b[0;31m---------------------------------------------------------------------------\u001b[0m",
      "\u001b[0;31mModuleNotFoundError\u001b[0m                       Traceback (most recent call last)",
      "File \u001b[0;32m~/Documents/ Weizmann/ML Course 2023/numpy-100/initialise.py:3\u001b[0m\n\u001b[1;32m      1\u001b[0m \u001b[38;5;28;01mimport\u001b[39;00m \u001b[38;5;21;01mnumpy\u001b[39;00m \u001b[38;5;28;01mas\u001b[39;00m \u001b[38;5;21;01mnp\u001b[39;00m\n\u001b[0;32m----> 3\u001b[0m \u001b[38;5;28;01mimport\u001b[39;00m \u001b[38;5;21;01mgenerators\u001b[39;00m \u001b[38;5;28;01mas\u001b[39;00m \u001b[38;5;21;01mge\u001b[39;00m\n\u001b[1;32m      6\u001b[0m \u001b[38;5;28;01mdef\u001b[39;00m \u001b[38;5;21mquestion\u001b[39m(n):\n\u001b[1;32m      7\u001b[0m     \u001b[38;5;28mprint\u001b[39m(\u001b[38;5;124mf\u001b[39m\u001b[38;5;124m'\u001b[39m\u001b[38;5;132;01m{\u001b[39;00mn\u001b[38;5;132;01m}\u001b[39;00m\u001b[38;5;124m. \u001b[39m\u001b[38;5;124m'\u001b[39m \u001b[38;5;241m+\u001b[39m ge\u001b[38;5;241m.\u001b[39mQHA[\u001b[38;5;124mf\u001b[39m\u001b[38;5;124m'\u001b[39m\u001b[38;5;124mq\u001b[39m\u001b[38;5;132;01m{\u001b[39;00mn\u001b[38;5;132;01m}\u001b[39;00m\u001b[38;5;124m'\u001b[39m])\n",
      "File \u001b[0;32m~/Documents/ Weizmann/ML Course 2023/numpy-100/generators.py:2\u001b[0m\n\u001b[1;32m      1\u001b[0m \u001b[38;5;28;01mimport\u001b[39;00m \u001b[38;5;21;01mos\u001b[39;00m\n\u001b[0;32m----> 2\u001b[0m \u001b[38;5;28;01mimport\u001b[39;00m \u001b[38;5;21;01mnbformat\u001b[39;00m \u001b[38;5;28;01mas\u001b[39;00m \u001b[38;5;21;01mnbf\u001b[39;00m\n\u001b[1;32m      3\u001b[0m \u001b[38;5;28;01mimport\u001b[39;00m \u001b[38;5;21;01mmdutils\u001b[39;00m\n\u001b[1;32m      6\u001b[0m \u001b[38;5;28;01mdef\u001b[39;00m \u001b[38;5;21mktx_to_dict\u001b[39m(input_file, keystarter\u001b[38;5;241m=\u001b[39m\u001b[38;5;124m'\u001b[39m\u001b[38;5;124m<\u001b[39m\u001b[38;5;124m'\u001b[39m):\n",
      "\u001b[0;31mModuleNotFoundError\u001b[0m: No module named 'nbformat'"
     ]
    }
   ],
   "source": [
    "%run initialise.py"
   ]
  },
  {
   "cell_type": "markdown",
   "id": "3c1222ff",
   "metadata": {},
   "source": [
    "#### 1. Import the numpy package under the name `np` (★☆☆)"
   ]
  },
  {
   "cell_type": "code",
   "execution_count": 2,
   "id": "f52e6a0b",
   "metadata": {},
   "outputs": [],
   "source": [
    "import numpy as np"
   ]
  },
  {
   "cell_type": "markdown",
   "id": "9d9f4753",
   "metadata": {},
   "source": [
    "#### 2. Print the numpy version and the configuration (★☆☆)"
   ]
  },
  {
   "cell_type": "code",
   "execution_count": 2,
   "id": "b7fa5fa1",
   "metadata": {},
   "outputs": [
    {
     "name": "stdout",
     "output_type": "stream",
     "text": [
      "1.26.4\n",
      "{\n",
      "  \"Compilers\": {\n",
      "    \"c\": {\n",
      "      \"name\": \"clang\",\n",
      "      \"linker\": \"ld64\",\n",
      "      \"version\": \"14.0.0\",\n",
      "      \"commands\": \"cc\",\n",
      "      \"args\": \"-fno-strict-aliasing, -DBLAS_SYMBOL_SUFFIX=64_, -DHAVE_BLAS_ILP64\",\n",
      "      \"linker args\": \"-fno-strict-aliasing, -DBLAS_SYMBOL_SUFFIX=64_, -DHAVE_BLAS_ILP64\"\n",
      "    },\n",
      "    \"cython\": {\n",
      "      \"name\": \"cython\",\n",
      "      \"linker\": \"cython\",\n",
      "      \"version\": \"3.0.8\",\n",
      "      \"commands\": \"cython\"\n",
      "    },\n",
      "    \"c++\": {\n",
      "      \"name\": \"clang\",\n",
      "      \"linker\": \"ld64\",\n",
      "      \"version\": \"14.0.0\",\n",
      "      \"commands\": \"c++\",\n",
      "      \"args\": \"-DBLAS_SYMBOL_SUFFIX=64_, -DHAVE_BLAS_ILP64\",\n",
      "      \"linker args\": \"-DBLAS_SYMBOL_SUFFIX=64_, -DHAVE_BLAS_ILP64\"\n",
      "    }\n",
      "  },\n",
      "  \"Machine Information\": {\n",
      "    \"host\": {\n",
      "      \"cpu\": \"aarch64\",\n",
      "      \"family\": \"aarch64\",\n",
      "      \"endian\": \"little\",\n",
      "      \"system\": \"darwin\"\n",
      "    },\n",
      "    \"build\": {\n",
      "      \"cpu\": \"aarch64\",\n",
      "      \"family\": \"aarch64\",\n",
      "      \"endian\": \"little\",\n",
      "      \"system\": \"darwin\"\n",
      "    }\n",
      "  },\n",
      "  \"Build Dependencies\": {\n",
      "    \"blas\": {\n",
      "      \"name\": \"openblas64\",\n",
      "      \"found\": true,\n",
      "      \"version\": \"0.3.23.dev\",\n",
      "      \"detection method\": \"pkgconfig\",\n",
      "      \"include directory\": \"/opt/arm64-builds/include\",\n",
      "      \"lib directory\": \"/opt/arm64-builds/lib\",\n",
      "      \"openblas configuration\": \"USE_64BITINT=1 DYNAMIC_ARCH=1 DYNAMIC_OLDER= NO_CBLAS= NO_LAPACK= NO_LAPACKE= NO_AFFINITY=1 USE_OPENMP= SANDYBRIDGE MAX_THREADS=3\",\n",
      "      \"pc file directory\": \"/usr/local/lib/pkgconfig\"\n",
      "    },\n",
      "    \"lapack\": {\n",
      "      \"name\": \"dep4335021056\",\n",
      "      \"found\": true,\n",
      "      \"version\": \"1.26.4\",\n",
      "      \"detection method\": \"internal\",\n",
      "      \"include directory\": \"unknown\",\n",
      "      \"lib directory\": \"unknown\",\n",
      "      \"openblas configuration\": \"unknown\",\n",
      "      \"pc file directory\": \"unknown\"\n",
      "    }\n",
      "  },\n",
      "  \"Python Information\": {\n",
      "    \"path\": \"/private/var/folders/76/zy5ktkns50v6gt5g8r0sf6sc0000gn/T/cibw-run-q69bfk1p/cp312-macosx_arm64/build/venv/bin/python\",\n",
      "    \"version\": \"3.12\"\n",
      "  },\n",
      "  \"SIMD Extensions\": {\n",
      "    \"baseline\": [\n",
      "      \"NEON\",\n",
      "      \"NEON_FP16\",\n",
      "      \"NEON_VFPV4\",\n",
      "      \"ASIMD\"\n",
      "    ],\n",
      "    \"found\": [\n",
      "      \"ASIMDHP\"\n",
      "    ],\n",
      "    \"not found\": [\n",
      "      \"ASIMDFHM\"\n",
      "    ]\n",
      "  }\n",
      "}\n",
      "None\n"
     ]
    },
    {
     "name": "stderr",
     "output_type": "stream",
     "text": [
      "/Users/yoadoxman/Documents/ Weizmann/ML Course 2023/numpy-100/.venv/lib/python3.12/site-packages/numpy/__config__.py:155: UserWarning: Install `pyyaml` for better output\n",
      "  warnings.warn(\"Install `pyyaml` for better output\", stacklevel=1)\n"
     ]
    }
   ],
   "source": [
    "print(np.__version__)\n",
    "print(np.show_config())"
   ]
  },
  {
   "cell_type": "markdown",
   "id": "3e4c23c6",
   "metadata": {},
   "source": [
    "#### 3. Create a null vector of size 10 (★☆☆)"
   ]
  },
  {
   "cell_type": "code",
   "execution_count": 15,
   "id": "083c5c46",
   "metadata": {},
   "outputs": [
    {
     "name": "stdout",
     "output_type": "stream",
     "text": [
      "[0. 0. 0. 0. 0. 0. 0. 0. 0. 0.]\n"
     ]
    }
   ],
   "source": [
    "\n",
    "v = np.zeros(10)\n",
    "print(v)"
   ]
  },
  {
   "cell_type": "markdown",
   "id": "c38bbe82",
   "metadata": {},
   "source": [
    "#### 4. How to find the memory size of any array (★☆☆)"
   ]
  },
  {
   "cell_type": "code",
   "execution_count": 17,
   "id": "02b04021",
   "metadata": {},
   "outputs": [
    {
     "name": "stdout",
     "output_type": "stream",
     "text": [
      "80\n"
     ]
    }
   ],
   "source": [
    "memoryUse = v.nbytes\n",
    "print(memoryUse)"
   ]
  },
  {
   "cell_type": "markdown",
   "id": "67f893d4",
   "metadata": {},
   "source": [
    "#### 5. How to get the documentation of the numpy add function from the command line? (★☆☆)"
   ]
  },
  {
   "cell_type": "code",
   "execution_count": 18,
   "id": "40e6b70d",
   "metadata": {},
   "outputs": [
    {
     "name": "stdout",
     "output_type": "stream",
     "text": [
      "Help on ufunc:\n",
      "\n",
      "add = <ufunc 'add'>\n",
      "    add(x1, x2, /, out=None, *, where=True, casting='same_kind', order='K', dtype=None, subok=True[, signature, extobj])\n",
      "\n",
      "    Add arguments element-wise.\n",
      "\n",
      "    Parameters\n",
      "    ----------\n",
      "    x1, x2 : array_like\n",
      "        The arrays to be added.\n",
      "        If ``x1.shape != x2.shape``, they must be broadcastable to a common\n",
      "        shape (which becomes the shape of the output).\n",
      "    out : ndarray, None, or tuple of ndarray and None, optional\n",
      "        A location into which the result is stored. If provided, it must have\n",
      "        a shape that the inputs broadcast to. If not provided or None,\n",
      "        a freshly-allocated array is returned. A tuple (possible only as a\n",
      "        keyword argument) must have length equal to the number of outputs.\n",
      "    where : array_like, optional\n",
      "        This condition is broadcast over the input. At locations where the\n",
      "        condition is True, the `out` array will be set to the ufunc result.\n",
      "        Elsewhere, the `out` array will retain its original value.\n",
      "        Note that if an uninitialized `out` array is created via the default\n",
      "        ``out=None``, locations within it where the condition is False will\n",
      "        remain uninitialized.\n",
      "    **kwargs\n",
      "        For other keyword-only arguments, see the\n",
      "        :ref:`ufunc docs <ufuncs.kwargs>`.\n",
      "\n",
      "    Returns\n",
      "    -------\n",
      "    add : ndarray or scalar\n",
      "        The sum of `x1` and `x2`, element-wise.\n",
      "        This is a scalar if both `x1` and `x2` are scalars.\n",
      "\n",
      "    Notes\n",
      "    -----\n",
      "    Equivalent to `x1` + `x2` in terms of array broadcasting.\n",
      "\n",
      "    Examples\n",
      "    --------\n",
      "    >>> np.add(1.0, 4.0)\n",
      "    5.0\n",
      "    >>> x1 = np.arange(9.0).reshape((3, 3))\n",
      "    >>> x2 = np.arange(3.0)\n",
      "    >>> np.add(x1, x2)\n",
      "    array([[  0.,   2.,   4.],\n",
      "           [  3.,   5.,   7.],\n",
      "           [  6.,   8.,  10.]])\n",
      "\n",
      "    The ``+`` operator can be used as a shorthand for ``np.add`` on ndarrays.\n",
      "\n",
      "    >>> x1 = np.arange(9.0).reshape((3, 3))\n",
      "    >>> x2 = np.arange(3.0)\n",
      "    >>> x1 + x2\n",
      "    array([[ 0.,  2.,  4.],\n",
      "           [ 3.,  5.,  7.],\n",
      "           [ 6.,  8., 10.]])\n",
      "\n"
     ]
    }
   ],
   "source": [
    "help(np.add)"
   ]
  },
  {
   "cell_type": "markdown",
   "id": "e0c739c6",
   "metadata": {},
   "source": [
    "#### 6. Create a null vector of size 10 but the fifth value which is 1 (★☆☆)"
   ]
  },
  {
   "cell_type": "code",
   "execution_count": 19,
   "id": "bcceacf7",
   "metadata": {},
   "outputs": [
    {
     "name": "stdout",
     "output_type": "stream",
     "text": [
      "[0. 0. 0. 0. 1. 0. 0. 0. 0. 0.]\n"
     ]
    }
   ],
   "source": [
    "v = np.zeros(10)\n",
    "v[4] =1\n",
    "print(v)"
   ]
  },
  {
   "cell_type": "markdown",
   "id": "fbebedab",
   "metadata": {},
   "source": [
    "#### 7. Create a vector with values ranging from 10 to 49 (★☆☆)"
   ]
  },
  {
   "cell_type": "code",
   "execution_count": 29,
   "id": "3d117d54",
   "metadata": {},
   "outputs": [
    {
     "name": "stdout",
     "output_type": "stream",
     "text": [
      "[10. 11. 12. 13. 14. 15. 16. 17. 18. 19. 20. 21. 22. 23. 24. 25. 26. 27.\n",
      " 28. 29. 30. 31. 32. 33. 34. 35. 36. 37. 38. 39. 40. 41. 42. 43. 44. 45.\n",
      " 46. 47. 48. 49.]\n"
     ]
    }
   ],
   "source": [
    "w = np.linspace(10,49,40)\n",
    "print(w)"
   ]
  },
  {
   "cell_type": "markdown",
   "id": "ad0bff02",
   "metadata": {},
   "source": [
    "#### 8. Reverse a vector (first element becomes last) (★☆☆)"
   ]
  },
  {
   "cell_type": "code",
   "execution_count": 30,
   "id": "22d23470",
   "metadata": {},
   "outputs": [
    {
     "name": "stdout",
     "output_type": "stream",
     "text": [
      "[49. 48. 47. 46. 45. 44. 43. 42. 41. 40. 39. 38. 37. 36. 35. 34. 33. 32.\n",
      " 31. 30. 29. 28. 27. 26. 25. 24. 23. 22. 21. 20. 19. 18. 17. 16. 15. 14.\n",
      " 13. 12. 11. 10.]\n"
     ]
    }
   ],
   "source": [
    "w = w[::-1]\n",
    "print(w)"
   ]
  },
  {
   "cell_type": "markdown",
   "id": "9f59d7e1",
   "metadata": {},
   "source": [
    "#### 9. Create a 3x3 matrix with values ranging from 0 to 8 (★☆☆)"
   ]
  },
  {
   "cell_type": "code",
   "execution_count": 31,
   "id": "7449e82d",
   "metadata": {},
   "outputs": [
    {
     "name": "stdout",
     "output_type": "stream",
     "text": [
      "[[0. 1. 2.]\n",
      " [3. 4. 5.]\n",
      " [6. 7. 8.]]\n"
     ]
    }
   ],
   "source": [
    "M = np.linspace(0,8,9).reshape(3,3)\n",
    "print(M)"
   ]
  },
  {
   "cell_type": "markdown",
   "id": "f374c4cf",
   "metadata": {},
   "source": [
    "#### 10. Find indices of non-zero elements from [1,2,0,0,4,0] (★☆☆)"
   ]
  },
  {
   "cell_type": "code",
   "execution_count": 41,
   "id": "1a84bed8",
   "metadata": {},
   "outputs": [
    {
     "name": "stdout",
     "output_type": "stream",
     "text": [
      "[1 2 4]\n"
     ]
    }
   ],
   "source": [
    "\n",
    "array = [1, 2, 0, 0, 4, 0]\n",
    "ind = np.nonzero(array)\n",
    "print(np.array(array)[ind[0]])\n"
   ]
  },
  {
   "cell_type": "markdown",
   "id": "9c4707f5",
   "metadata": {},
   "source": [
    "#### 11. Create a 3x3 identity matrix (★☆☆)"
   ]
  },
  {
   "cell_type": "code",
   "execution_count": 42,
   "id": "29dc1fd3",
   "metadata": {},
   "outputs": [
    {
     "name": "stdout",
     "output_type": "stream",
     "text": [
      "[[1. 0. 0.]\n",
      " [0. 1. 0.]\n",
      " [0. 0. 1.]]\n"
     ]
    }
   ],
   "source": [
    "I = np.eye(3)\n",
    "print(I)"
   ]
  },
  {
   "cell_type": "markdown",
   "id": "3bac294a",
   "metadata": {},
   "source": [
    "#### 12. Create a 3x3x3 array with random values (★☆☆)"
   ]
  },
  {
   "cell_type": "code",
   "execution_count": 46,
   "id": "eadfae67",
   "metadata": {},
   "outputs": [
    {
     "name": "stdout",
     "output_type": "stream",
     "text": [
      "[[[0.22372185 0.4853905  0.74225041]\n",
      "  [0.46357448 0.1785684  0.07442274]\n",
      "  [0.61944466 0.04177086 0.19770079]]\n",
      "\n",
      " [[0.47473298 0.02566719 0.297084  ]\n",
      "  [0.97063942 0.26142435 0.85922778]\n",
      "  [0.51820558 0.30512358 0.20322712]]\n",
      "\n",
      " [[0.73458322 0.21226643 0.35325162]\n",
      "  [0.23205465 0.05132016 0.48423175]\n",
      "  [0.08306405 0.56656795 0.68927489]]]\n"
     ]
    }
   ],
   "source": [
    "M = np.random.rand(3,3,3)\n",
    "print(M)"
   ]
  },
  {
   "cell_type": "markdown",
   "id": "466c2989",
   "metadata": {},
   "source": [
    "#### 13. Create a 10x10 array with random values and find the minimum and maximum values (★☆☆)"
   ]
  },
  {
   "cell_type": "code",
   "execution_count": 53,
   "id": "9a74dbfc",
   "metadata": {},
   "outputs": [
    {
     "name": "stdout",
     "output_type": "stream",
     "text": [
      "[[-0.37217931  1.32418058 -2.33107049  0.88385727  0.21855147 -0.18270781\n",
      "  -0.3854042   0.12525477 -0.74544497  0.4288906 ]\n",
      " [ 0.41005127  0.42376957 -2.05524167 -0.12286762  0.5713925  -1.6803605\n",
      "  -0.10268995  0.31044377 -0.96923813 -0.67220705]\n",
      " [ 1.18405881 -1.57840144 -0.51536457 -1.50428588 -1.04502161 -0.57269952\n",
      "  -1.6261955   1.52903025 -0.39449056 -0.51799919]\n",
      " [ 0.43874365 -0.33194843 -0.84249431  1.69429417 -1.20814044  1.69753305\n",
      "   0.34532811 -0.01032085  0.34254416 -0.224874  ]\n",
      " [ 0.11791339  0.42847438 -1.65322475 -0.09443648  2.73227572  0.48471564\n",
      "  -0.36782317 -0.56073524  0.58178814 -0.27805452]\n",
      " [-0.13525173  0.75972424 -0.17692831  0.92358562  0.74853649  0.50638655\n",
      "  -0.96722083  1.79449969 -0.20405222 -1.00971638]\n",
      " [ 0.01693719  0.26255273 -0.33467305  1.66931686  1.30650928  1.57242865\n",
      "   0.00346192  0.97974357  0.14626929  0.10454883]\n",
      " [ 0.28095726 -0.3127649   0.85532997  1.45267734  2.18030656 -0.0600824\n",
      "  -1.49235065 -1.30670978  1.37220725  0.72295799]\n",
      " [ 2.82737471 -0.24789128  0.95395287 -0.36915168  0.89825193  1.92039647\n",
      "  -0.9281409  -2.15046198  0.04595041  1.04260926]\n",
      " [-0.97705075  0.36300954 -0.65172003 -0.9674218   0.35559984 -1.27452543\n",
      "  -1.25808975  0.55102076  1.33257254  0.08706213]] 2.8273747127500433 -2.3310704881586073\n"
     ]
    }
   ],
   "source": [
    "M = np.random.randn(10,10)\n",
    "K = np.amax(M)\n",
    "L = np.amin(M)\n",
    "print(M,K,L)"
   ]
  },
  {
   "cell_type": "markdown",
   "id": "53a8edb2",
   "metadata": {},
   "source": [
    "#### 14. Create a random vector of size 30 and find the mean value (★☆☆)"
   ]
  },
  {
   "cell_type": "code",
   "execution_count": 57,
   "id": "6691530b",
   "metadata": {},
   "outputs": [
    {
     "name": "stdout",
     "output_type": "stream",
     "text": [
      "[ 9.31772688  5.04325989  1.07637019  6.09302322  7.10744977  6.29568643\n",
      "  9.78655273  2.86658677  1.22036338  0.23753946  2.46051286  8.4665875\n",
      "  5.25728167  7.29162192  3.74069862  1.83914301  4.8891999  10.7890361\n",
      "  4.31948375 10.4555726   0.44332855  7.00437812  0.93604793  1.1593087\n",
      "  3.21172004  4.28182607  5.67892959  5.14716082  9.11074636  8.83630739] 5.145448340738546\n"
     ]
    }
   ],
   "source": [
    "x = np.random.rand(30)*12\n",
    "a = np.mean(x)\n",
    "print(x,a)"
   ]
  },
  {
   "cell_type": "markdown",
   "id": "cbaad31c",
   "metadata": {},
   "source": [
    "#### 15. Create a 2d array with 1 on the border and 0 inside (★☆☆)"
   ]
  },
  {
   "cell_type": "code",
   "execution_count": 77,
   "id": "ad8308e3",
   "metadata": {},
   "outputs": [
    {
     "name": "stdout",
     "output_type": "stream",
     "text": [
      "[[1. 1. 1. 1. 1. 1. 1. 1. 1. 1.]\n",
      " [1. 0. 0. 0. 0. 0. 0. 0. 0. 1.]\n",
      " [1. 0. 0. 0. 0. 0. 0. 0. 0. 1.]\n",
      " [1. 0. 0. 0. 0. 0. 0. 0. 0. 1.]\n",
      " [1. 0. 0. 0. 0. 0. 0. 0. 0. 1.]\n",
      " [1. 0. 0. 0. 0. 0. 0. 0. 0. 1.]\n",
      " [1. 0. 0. 0. 0. 0. 0. 0. 0. 1.]\n",
      " [1. 0. 0. 0. 0. 0. 0. 0. 0. 1.]\n",
      " [1. 0. 0. 0. 0. 0. 0. 0. 0. 1.]\n",
      " [1. 1. 1. 1. 1. 1. 1. 1. 1. 1.]]\n"
     ]
    }
   ],
   "source": [
    "x = np.zeros(100).reshape(10,10)\n",
    "x[:1] = np.ones(10)\n",
    "x[-1:] = np.ones(10)\n",
    "x[:, 0] = np.ones(10)\n",
    "x[:, -1] = np.ones(10)\n",
    "print(x)"
   ]
  },
  {
   "cell_type": "markdown",
   "id": "c5ecc267",
   "metadata": {},
   "source": [
    "#### 16. How to add a border (filled with 0's) around an existing array? (★☆☆)"
   ]
  },
  {
   "cell_type": "code",
   "execution_count": 4,
   "id": "9d5c78c4",
   "metadata": {},
   "outputs": [
    {
     "name": "stdout",
     "output_type": "stream",
     "text": [
      "[[ 2.23481321  5.590511  ]\n",
      " [10.40320259  0.18790417]\n",
      " [ 1.50919547  6.01732952]\n",
      " [ 5.22113715 10.57048666]\n",
      " [ 7.78725087  5.55447598]]\n",
      "[[ 0.          0.          0.          0.        ]\n",
      " [ 0.          2.23481321  5.590511    0.        ]\n",
      " [ 0.         10.40320259  0.18790417  0.        ]\n",
      " [ 0.          1.50919547  6.01732952  0.        ]\n",
      " [ 0.          5.22113715 10.57048666  0.        ]\n",
      " [ 0.          7.78725087  5.55447598  0.        ]\n",
      " [ 0.          0.          0.          0.        ]]\n"
     ]
    }
   ],
   "source": [
    "x = (np.random.rand(10)*12).reshape(5,2)\n",
    "print(x)\n",
    "x = np.pad(x,((1,),(1,)),'constant', constant_values=(0,))\n",
    "print(x)"
   ]
  },
  {
   "cell_type": "markdown",
   "id": "ef909b72",
   "metadata": {},
   "source": [
    "#### 17. What is the result of the following expression? (★☆☆)\n",
    "```python\n",
    "0 * np.nan\n",
    "np.nan == np.nan\n",
    "np.inf > np.nan\n",
    "np.nan - np.nan\n",
    "np.nan in set([np.nan])\n",
    "0.3 == 3 * 0.1\n",
    "```"
   ]
  },
  {
   "cell_type": "code",
   "execution_count": 11,
   "id": "3b4985f2",
   "metadata": {},
   "outputs": [
    {
     "data": {
      "text/plain": [
       "False"
      ]
     },
     "execution_count": 11,
     "metadata": {},
     "output_type": "execute_result"
    }
   ],
   "source": [
    "\n",
    "0.3 == 3*0.1 #is false because of floating point arythmetics"
   ]
  },
  {
   "cell_type": "markdown",
   "id": "502738ac",
   "metadata": {},
   "source": [
    "#### 18. Create a 5x5 matrix with values 1,2,3,4 just below the diagonal (★☆☆)"
   ]
  },
  {
   "cell_type": "code",
   "execution_count": 21,
   "id": "faed6e2b",
   "metadata": {},
   "outputs": [
    {
     "name": "stdout",
     "output_type": "stream",
     "text": [
      "[[0.90496338 0.53077687 0.28975342 0.95845668 0.09858079]\n",
      " [1.         0.69923475 0.10029593 0.10160822 0.50761192]\n",
      " [0.2331372  2.         0.6086334  0.12951432 0.14008073]\n",
      " [0.62725136 0.40706788 3.         0.66901553 0.22588697]\n",
      " [0.95332749 0.70275355 0.31830934 4.         0.02905351]]\n",
      "[[0.65108289 0.8711833  0.3050186  0.59806306 0.72795803]\n",
      " [1.33001858 0.23360831 0.08232633 0.61254701 0.31697029]\n",
      " [0.3736857  2.98845809 0.60449837 0.46747505 0.82837295]\n",
      " [0.91186824 0.55827189 3.28130741 0.89085693 0.53244098]\n",
      " [0.0484728  0.70783327 0.88328743 4.98209361 0.18307198]]\n"
     ]
    }
   ],
   "source": [
    "M = np.random.random((5,5))\n",
    "for i in range(4):\n",
    "    M[i+1,i] = i+1\n",
    "print(M)\n",
    "\n",
    "A = np.arange(4) +1 \n",
    "C = np.diag(A,-1) #-1 - one diagonal lower\n",
    "print(C)\n"
   ]
  },
  {
   "cell_type": "markdown",
   "id": "a65da660",
   "metadata": {},
   "source": [
    "#### 19. Create a 8x8 matrix and fill it with a checkerboard pattern (★☆☆)"
   ]
  },
  {
   "cell_type": "code",
   "execution_count": 34,
   "id": "ed150400",
   "metadata": {},
   "outputs": [
    {
     "name": "stdout",
     "output_type": "stream",
     "text": [
      "[[1. 0. 1. 0. 1. 0. 1. 0.]\n",
      " [0. 1. 0. 1. 0. 1. 0. 1.]\n",
      " [1. 0. 1. 0. 1. 0. 1. 0.]\n",
      " [0. 1. 0. 1. 0. 1. 0. 1.]\n",
      " [1. 0. 1. 0. 1. 0. 1. 0.]\n",
      " [0. 1. 0. 1. 0. 1. 0. 1.]\n",
      " [1. 0. 1. 0. 1. 0. 1. 0.]\n",
      " [0. 1. 0. 1. 0. 1. 0. 1.]]\n"
     ]
    }
   ],
   "source": [
    "M = np.zeros((8,8))\n",
    "# M[::2] = 1 #all rows, all columns, jump rows by 2 every time\n",
    "M[::2, ::2] = 1\n",
    "M[1::2, 1::2] = 1\n",
    "print(M) \n"
   ]
  },
  {
   "cell_type": "markdown",
   "id": "9f7f9c49",
   "metadata": {},
   "source": [
    "#### 20. Consider a (6,7,8) shape array, what is the index (x,y,z) of the 100th element? (★☆☆)"
   ]
  },
  {
   "cell_type": "code",
   "execution_count": 47,
   "id": "3782b5a9",
   "metadata": {},
   "outputs": [
    {
     "name": "stdout",
     "output_type": "stream",
     "text": [
      "(1, 5, 3)\n"
     ]
    }
   ],
   "source": [
    "A = np.zeros((6,7,8))\n",
    "A = A.astype(int)\n",
    "e = np.unravel_index(99,A.shape)\n",
    "print(e)"
   ]
  },
  {
   "cell_type": "markdown",
   "id": "66bfda35",
   "metadata": {},
   "source": [
    "#### 21. Create a checkerboard 8x8 matrix using the tile function (★☆☆)"
   ]
  },
  {
   "cell_type": "code",
   "execution_count": 51,
   "id": "4c07477c",
   "metadata": {},
   "outputs": [
    {
     "name": "stdout",
     "output_type": "stream",
     "text": [
      "[[0 1 0 1 0 1 0 1]\n",
      " [1 0 1 0 1 0 1 0]\n",
      " [0 1 0 1 0 1 0 1]\n",
      " [1 0 1 0 1 0 1 0]\n",
      " [0 1 0 1 0 1 0 1]\n",
      " [1 0 1 0 1 0 1 0]\n",
      " [0 1 0 1 0 1 0 1]\n",
      " [1 0 1 0 1 0 1 0]]\n",
      "(8, 8)\n"
     ]
    }
   ],
   "source": [
    "a = np.tile(np.array([[0,1],[1,0]]),(4,4))\n",
    "print(a)\n",
    "print(a.shape)"
   ]
  },
  {
   "cell_type": "markdown",
   "id": "d5bcfc08",
   "metadata": {},
   "source": [
    "#### 22. Normalize a 5x5 random matrix (★☆☆)"
   ]
  },
  {
   "cell_type": "code",
   "execution_count": 52,
   "id": "cea6c993",
   "metadata": {},
   "outputs": [
    {
     "name": "stdout",
     "output_type": "stream",
     "text": [
      "[[0.83914027 0.46669901 0.10334517 0.26292293 0.29145527]\n",
      " [0.86484766 0.9947623  0.871279   0.50833517 0.446005  ]\n",
      " [0.73749122 0.44336698 0.96783008 0.16457346 0.1146757 ]\n",
      " [0.517829   0.4951333  0.42614707 0.38491971 0.98345099]\n",
      " [0.86501641 0.6371987  0.39907114 0.02316174 0.20702872]]\n",
      "[[0.28088218 0.15621636 0.03459233 0.08800718 0.0975577 ]\n",
      " [0.28948711 0.33297294 0.29163985 0.17015307 0.14928953]\n",
      " [0.24685759 0.14840652 0.32395802 0.05508704 0.03838495]\n",
      " [0.1733309  0.16573406 0.14264256 0.12884269 0.32918675]\n",
      " [0.2895436  0.21328706 0.13357954 0.00775284 0.06929792]]\n"
     ]
    }
   ],
   "source": [
    "A = np.random.random((5,5))\n",
    "print(A)\n",
    "A = A/(np.linalg.norm(A))\n",
    "print(A)"
   ]
  },
  {
   "cell_type": "markdown",
   "id": "f9a0911e",
   "metadata": {},
   "source": [
    "#### 23. Create a custom dtype that describes a color as four unsigned bytes (RGBA) (★☆☆)"
   ]
  },
  {
   "cell_type": "code",
   "execution_count": 58,
   "id": "d165044b",
   "metadata": {},
   "outputs": [
    {
     "name": "stdout",
     "output_type": "stream",
     "text": [
      "[(20,  5,  7, 10) ( 0,  1,  2,  3) (23, 34, 45, 56)]\n"
     ]
    }
   ],
   "source": [
    "color = np.dtype([(\"r\",np.ubyte),(\"g\",np.ubyte),(\"b\",np.ubyte),(\"a\",np.ubyte)])\n",
    "#can i do it using the shortcut name of np.ubyte?\n",
    "colorbutbetter = {\n",
    "            \"names\":[\"r\", \"g\", \"b\", \"a\"],\n",
    "            \"values\": [np.ubyte, np.ubyte, np.ubyte, np.ubyte]\n",
    "            } \n",
    "somecolorarray = np.array([(20,5,7,10),(0,1,2,3),(23,34,45,56)],dtype=color)"
   ]
  },
  {
   "cell_type": "markdown",
   "id": "654805b1",
   "metadata": {},
   "source": [
    "#### 24. Multiply a 5x3 matrix by a 3x2 matrix (real matrix product) (★☆☆)"
   ]
  },
  {
   "cell_type": "code",
   "execution_count": 66,
   "id": "6a42619f",
   "metadata": {},
   "outputs": [
    {
     "name": "stdout",
     "output_type": "stream",
     "text": [
      "[[0.25289193 0.82327093]\n",
      " [0.37611882 0.39136638]\n",
      " [0.60937908 0.35848266]\n",
      " [1.02141061 0.77916577]\n",
      " [0.66401859 1.1340251 ]]\n"
     ]
    }
   ],
   "source": [
    "A = np.random.random((5,3))\n",
    "B = np.random.random((3,2))\n",
    "C = np.matmul(A,B)\n",
    "print(C)"
   ]
  },
  {
   "cell_type": "markdown",
   "id": "994c25df",
   "metadata": {},
   "source": [
    "#### 25. Given a 1D array, negate all elements which are between 3 and 8, in place. (★☆☆)"
   ]
  },
  {
   "cell_type": "code",
   "execution_count": 69,
   "id": "e4b39c03",
   "metadata": {},
   "outputs": [
    {
     "name": "stdout",
     "output_type": "stream",
     "text": [
      "[ 1.          1.47368421  1.94736842  2.42105263  2.89473684 -3.36842105\n",
      " -3.84210526 -4.31578947 -4.78947368 -5.26315789 -5.73684211 -6.21052632\n",
      " -6.68421053 -7.15789474 -7.63157895  8.10526316  8.57894737  9.05263158\n",
      "  9.52631579 10.        ]\n"
     ]
    }
   ],
   "source": [
    "a = np.linspace(1,10,20)\n",
    "a[(a>3) & (a<8)] = a[(a>3) & (a<8)]*(-1)\n",
    "# could be a[(a>3) & (a<8)] *= -1\n",
    "print(a)"
   ]
  },
  {
   "cell_type": "markdown",
   "id": "b7d15d1a",
   "metadata": {},
   "source": [
    "#### 26. What is the output of the following script? (★☆☆)\n",
    "```python\n",
    "# Author: Jake VanderPlas\n",
    "\n",
    "print(sum(range(5),-1))\n",
    "from numpy import *\n",
    "print(sum(range(5),-1))\n",
    "```"
   ]
  },
  {
   "cell_type": "code",
   "execution_count": 76,
   "id": "4c95bc3f",
   "metadata": {},
   "outputs": [
    {
     "name": "stdout",
     "output_type": "stream",
     "text": [
      "10\n",
      "10\n"
     ]
    },
    {
     "ename": "NameError",
     "evalue": "name 'numpy' is not defined",
     "output_type": "error",
     "traceback": [
      "\u001b[0;31m---------------------------------------------------------------------------\u001b[0m",
      "\u001b[0;31mNameError\u001b[0m                                 Traceback (most recent call last)",
      "Cell \u001b[0;32mIn[76], line 7\u001b[0m\n\u001b[1;32m      5\u001b[0m \u001b[38;5;28;01mfrom\u001b[39;00m \u001b[38;5;21;01mnumpy\u001b[39;00m \u001b[38;5;28;01mimport\u001b[39;00m \u001b[38;5;241m*\u001b[39m\n\u001b[1;32m      6\u001b[0m \u001b[38;5;28mprint\u001b[39m(\u001b[38;5;28msum\u001b[39m(\u001b[38;5;28mrange\u001b[39m(\u001b[38;5;241m5\u001b[39m),\u001b[38;5;241m-\u001b[39m\u001b[38;5;241m1\u001b[39m))\n\u001b[0;32m----> 7\u001b[0m \u001b[38;5;28;01mdel\u001b[39;00m \u001b[43mnumpy\u001b[49m \n\u001b[1;32m      9\u001b[0m \u001b[38;5;66;03m#it's 9 and then 10, why? because the last line is actually np.sum(what we sum over, axis) \u001b[39;00m\n",
      "\u001b[0;31mNameError\u001b[0m: name 'numpy' is not defined"
     ]
    }
   ],
   "source": [
    "#### 26. What is the output of the following script? (★☆☆)\n",
    "# Author: Jake VanderPlas\n",
    "\n",
    "print(sum(range(5),-1))\n",
    "from numpy import *\n",
    "print(sum(range(5),-1)) \n",
    "\n",
    "#it's 9 and then 10, why? because the last line is actually np.sum(what we sum over, axis) "
   ]
  },
  {
   "cell_type": "markdown",
   "id": "a34f0d08",
   "metadata": {},
   "source": [
    "#### 27. Consider an integer vector Z, which of these expressions are legal? (★☆☆)\n",
    "```python\n",
    "Z**Z\n",
    "2 << Z >> 2\n",
    "Z <- Z\n",
    "1j*Z\n",
    "Z/1/1\n",
    "Z<Z>Z\n",
    "```"
   ]
  },
  {
   "cell_type": "code",
   "execution_count": 5,
   "id": "564658fc",
   "metadata": {},
   "outputs": [
    {
     "name": "stdout",
     "output_type": "stream",
     "text": [
      "[ 1  4 27]\n",
      "[1 2 4]\n",
      "[False False False]\n",
      "[0.+1.j 0.+2.j 0.+3.j]\n",
      "[1. 2. 3.]\n"
     ]
    }
   ],
   "source": [
    "Z = np.array([1,2,3],dtype = int)\n",
    "print(Z**Z)\n",
    "print(2 << Z >> 2)\n",
    "print(Z <- Z)\n",
    "print(1j*Z)\n",
    "print(Z/1/1)\n",
    "# Z<Z>Z is false"
   ]
  },
  {
   "cell_type": "markdown",
   "id": "c34e94bf",
   "metadata": {},
   "source": [
    "#### 28. What are the result of the following expressions? (★☆☆)\n",
    "```python\n",
    "np.array(0) / np.array(0)\n",
    "np.array(0) // np.array(0)\n",
    "np.array([np.nan]).astype(int).astype(float)\n",
    "```"
   ]
  },
  {
   "cell_type": "code",
   "execution_count": 12,
   "id": "56663562",
   "metadata": {},
   "outputs": [
    {
     "name": "stdout",
     "output_type": "stream",
     "text": [
      "nan\n",
      "0\n",
      "[0.]\n"
     ]
    },
    {
     "name": "stderr",
     "output_type": "stream",
     "text": [
      "/var/folders/3c/459yj7ps3tsgjgp6229g7hhr0000gn/T/ipykernel_43829/2616014464.py:2: RuntimeWarning: invalid value encountered in divide\n",
      "  print(np.array(0) / np.array(0))\n",
      "/var/folders/3c/459yj7ps3tsgjgp6229g7hhr0000gn/T/ipykernel_43829/2616014464.py:3: RuntimeWarning: divide by zero encountered in floor_divide\n",
      "  print(np.array(0) // np.array(0))\n",
      "/var/folders/3c/459yj7ps3tsgjgp6229g7hhr0000gn/T/ipykernel_43829/2616014464.py:4: RuntimeWarning: invalid value encountered in cast\n",
      "  print(np.array([np.nan]).astype(int).astype(float))\n"
     ]
    }
   ],
   "source": [
    "#### 28. What are the result of the following expressions? (★☆☆)\n",
    "print(np.array(0) / np.array(0))\n",
    "print(np.array(0) // np.array(0))\n",
    "print(np.array([np.nan]).astype(int).astype(float))"
   ]
  },
  {
   "cell_type": "markdown",
   "id": "546f5e7b",
   "metadata": {},
   "source": [
    "#### 29. How to round away from zero a float array ? (★☆☆)"
   ]
  },
  {
   "cell_type": "code",
   "execution_count": 14,
   "id": "f725a6d2",
   "metadata": {},
   "outputs": [
    {
     "name": "stdout",
     "output_type": "stream",
     "text": [
      "[12.34802707 19.72280249 17.43077214 19.02801959 14.75168922 11.19219331\n",
      " 12.35546766 14.3908904  16.16425331 16.32883975]\n",
      "[12. 20. 17. 19. 15. 11. 12. 14. 16. 16.]\n",
      "[12. 20. 17. 19. 15. 11. 12. 14. 16. 16.]\n"
     ]
    }
   ],
   "source": [
    "# you need to round float to its closest integer\n",
    "x = np.random.uniform(10,20,10)\n",
    "print(x)\n",
    "y = np.round(x)\n",
    "print(y)    \n",
    "x = np.copysign(np.round(abs(x)),x)\n",
    "print(x) "
   ]
  },
  {
   "cell_type": "markdown",
   "id": "eadca856",
   "metadata": {},
   "source": [
    "#### 30. How to find common values between two arrays? (★☆☆)"
   ]
  },
  {
   "cell_type": "code",
   "execution_count": 18,
   "id": "e0270b5b",
   "metadata": {},
   "outputs": [
    {
     "name": "stdout",
     "output_type": "stream",
     "text": [
      "[13.9928664  12.29275672 16.80839893 17.29753005 13.82384914]\n",
      "[12.29275672 13.82384914 13.9928664  16.80839893 17.29753005]\n"
     ]
    }
   ],
   "source": [
    "x = np.random.uniform(10,20,10)\n",
    "y = x+np.tile([0,1],5)\n",
    "a = x[x == y]\n",
    "b = np.intersect1d(x,y)\n",
    "print(a)\n",
    "print(b)"
   ]
  },
  {
   "cell_type": "markdown",
   "id": "ca16ca22",
   "metadata": {},
   "source": [
    "#### 31. How to ignore all numpy warnings (not recommended)? (★☆☆)"
   ]
  },
  {
   "cell_type": "code",
   "execution_count": null,
   "id": "7d7208ef",
   "metadata": {},
   "outputs": [],
   "source": [
    "defaults = np.seterr(all='ignore')"
   ]
  },
  {
   "cell_type": "markdown",
   "id": "c7871d0d",
   "metadata": {},
   "source": [
    "#### 32. Is the following expressions true? (★☆☆)\n",
    "```python\n",
    "np.sqrt(-1) == np.emath.sqrt(-1)\n",
    "```"
   ]
  },
  {
   "cell_type": "code",
   "execution_count": 4,
   "id": "acc3701a",
   "metadata": {},
   "outputs": [
    {
     "name": "stderr",
     "output_type": "stream",
     "text": [
      "/var/folders/3c/459yj7ps3tsgjgp6229g7hhr0000gn/T/ipykernel_15435/244602691.py:1: RuntimeWarning: invalid value encountered in sqrt\n",
      "  np.sqrt(-1) == np.emath.sqrt(-1)\n"
     ]
    },
    {
     "data": {
      "text/plain": [
       "False"
      ]
     },
     "execution_count": 4,
     "metadata": {},
     "output_type": "execute_result"
    }
   ],
   "source": [
    "np.sqrt(-1) == np.emath.sqrt(-1) #NaN vs. complex number"
   ]
  },
  {
   "cell_type": "markdown",
   "id": "e0433e30",
   "metadata": {},
   "source": [
    "#### 33. How to get the dates of yesterday, today and tomorrow? (★☆☆)"
   ]
  },
  {
   "cell_type": "code",
   "execution_count": 14,
   "id": "9c4d2152",
   "metadata": {},
   "outputs": [
    {
     "name": "stdout",
     "output_type": "stream",
     "text": [
      "2024-03-03\n",
      "2024-03-04\n",
      "2024-03-02\n"
     ]
    }
   ],
   "source": [
    "print(np.datetime64('today','D'))\n",
    "print(np.datetime64('today','D') + np.timedelta64(1,'D'))\n",
    "print(np.datetime64('today','D') - np.timedelta64(1,'D'))\n",
    "\n"
   ]
  },
  {
   "cell_type": "markdown",
   "id": "9f52a2ef",
   "metadata": {},
   "source": [
    "#### 34. How to get all the dates corresponding to the month of July 2016? (★★☆)"
   ]
  },
  {
   "cell_type": "code",
   "execution_count": 16,
   "id": "d6c34dec",
   "metadata": {},
   "outputs": [
    {
     "name": "stdout",
     "output_type": "stream",
     "text": [
      "['2016-07-01' '2016-07-02' '2016-07-03' '2016-07-04' '2016-07-05'\n",
      " '2016-07-06' '2016-07-07' '2016-07-08' '2016-07-09' '2016-07-10'\n",
      " '2016-07-11' '2016-07-12' '2016-07-13' '2016-07-14' '2016-07-15'\n",
      " '2016-07-16' '2016-07-17' '2016-07-18' '2016-07-19' '2016-07-20'\n",
      " '2016-07-21' '2016-07-22' '2016-07-23' '2016-07-24' '2016-07-25'\n",
      " '2016-07-26' '2016-07-27' '2016-07-28' '2016-07-29' '2016-07-30'\n",
      " '2016-07-31']\n",
      "None\n"
     ]
    }
   ],
   "source": [
    "print(print(np.arange('2016-07','2016-08',dtype = 'datetime64[D]')))"
   ]
  },
  {
   "cell_type": "markdown",
   "id": "4a64e059",
   "metadata": {},
   "source": [
    "#### 35. How to compute ((A+B)*(-A/2)) in place (without copy)? (★★☆)"
   ]
  },
  {
   "cell_type": "code",
   "execution_count": null,
   "id": "49267f60",
   "metadata": {},
   "outputs": [],
   "source": [
    "#NVM"
   ]
  },
  {
   "cell_type": "markdown",
   "id": "8a98c2a8",
   "metadata": {},
   "source": [
    "#### 36. Extract the integer part of a random array of positive numbers using 4 different methods (★★☆)"
   ]
  },
  {
   "cell_type": "code",
   "execution_count": 26,
   "id": "368130b3",
   "metadata": {},
   "outputs": [
    {
     "name": "stdout",
     "output_type": "stream",
     "text": [
      "[18.68276701 18.38026413  7.72180139  8.33230313 20.17726763 15.81246735\n",
      "  6.2357875   7.60542841 15.98956381 20.65977278]\n",
      "[19. 18.  8.  8. 20. 16.  6.  8. 16. 21.]\n",
      "[19. 19.  8.  9. 21. 16.  7.  8. 16. 21.]\n",
      "[18. 18.  7.  8. 20. 15.  6.  7. 15. 20.]\n",
      "[18. 18.  7.  8. 20. 15.  6.  7. 15. 20.]\n",
      "[18 18  7  8 20 15  6  7 15 20]\n"
     ]
    }
   ],
   "source": [
    "a = np.random.random(10)*26\n",
    "print(a)\n",
    "b = a.round()\n",
    "print(b)\n",
    "# c = np.ceil(a)\n",
    "# print(c)\n",
    "d = a//1\n",
    "print(d)\n",
    "e = a - a%1\n",
    "print(e)\n",
    "f = a.astype(int)\n",
    "print(f)"
   ]
  },
  {
   "cell_type": "markdown",
   "id": "5a2e3d85",
   "metadata": {},
   "source": [
    "#### 37. Create a 5x5 matrix with row values ranging from 0 to 4 (★★☆)"
   ]
  },
  {
   "cell_type": "code",
   "execution_count": 27,
   "id": "1d974e8f",
   "metadata": {},
   "outputs": [
    {
     "name": "stdout",
     "output_type": "stream",
     "text": [
      "[[0 1 2 3 4]\n",
      " [0 1 2 3 4]\n",
      " [0 1 2 3 4]\n",
      " [0 1 2 3 4]\n",
      " [0 1 2 3 4]]\n"
     ]
    }
   ],
   "source": [
    "A = np.tile(np.arange(5),(5,1))\n",
    "print(A)\n",
    "# what is broadcasting?"
   ]
  },
  {
   "cell_type": "markdown",
   "id": "9720e2d5",
   "metadata": {},
   "source": [
    "#### 38. Consider a generator function that generates 10 integers and use it to build an array (★☆☆)"
   ]
  },
  {
   "cell_type": "code",
   "execution_count": 41,
   "id": "e5dd8fc9",
   "metadata": {},
   "outputs": [
    {
     "name": "stdout",
     "output_type": "stream",
     "text": [
      "[156 127 187 111 167 147 178 156 121 117]\n"
     ]
    },
    {
     "name": "stderr",
     "output_type": "stream",
     "text": [
      "/var/folders/3c/459yj7ps3tsgjgp6229g7hhr0000gn/T/ipykernel_15435/2009878960.py:6: FutureWarning: Passing (type, 1) or '1type' as a synonym of type is deprecated; in a future version of numpy, it will be understood as (type, (1,)) / '(1,)type'.\n",
      "  x = np.fromiter(gen(),dtype =(int,1),count = -1)\n"
     ]
    }
   ],
   "source": [
    "def gen():\n",
    "    for _ in range(10):\n",
    "        yield np.random.randint(100,200)\n",
    "      \n",
    "\n",
    "x = np.fromiter(gen(),dtype =(int,1),count = -1)\n",
    "print(x)\n"
   ]
  },
  {
   "cell_type": "markdown",
   "id": "c6f2c912",
   "metadata": {},
   "source": [
    "#### 39. Create a vector of size 10 with values ranging from 0 to 1, both excluded (★★☆)"
   ]
  },
  {
   "cell_type": "code",
   "execution_count": 45,
   "id": "6aaa27d3",
   "metadata": {},
   "outputs": [
    {
     "name": "stdout",
     "output_type": "stream",
     "text": [
      "[0.09090909 0.18181818 0.27272727 0.36363636 0.45454545 0.54545455\n",
      " 0.63636364 0.72727273 0.81818182 0.90909091]\n"
     ]
    }
   ],
   "source": [
    "z = np.linspace(0,1,11, endpoint=False)\n",
    "print(z[1:])\n",
    "#cant it be done in a more pretty fashion?"
   ]
  },
  {
   "cell_type": "markdown",
   "id": "a36d6ee4",
   "metadata": {},
   "source": [
    "#### 40. Create a random vector of size 10 and sort it (★★☆)"
   ]
  },
  {
   "cell_type": "code",
   "execution_count": null,
   "id": "e589d216",
   "metadata": {},
   "outputs": [],
   "source": [
    "#nvm"
   ]
  },
  {
   "cell_type": "markdown",
   "id": "0fb4ad68",
   "metadata": {},
   "source": [
    "#### 41. How to sum a small array faster than np.sum? (★★☆)"
   ]
  },
  {
   "cell_type": "code",
   "execution_count": 46,
   "id": "a1ba05a0",
   "metadata": {},
   "outputs": [
    {
     "name": "stdout",
     "output_type": "stream",
     "text": [
      "4950\n"
     ]
    }
   ],
   "source": [
    "z = np.arange(100)\n",
    "print(np.add.reduce(z))"
   ]
  },
  {
   "cell_type": "markdown",
   "id": "024ac365",
   "metadata": {},
   "source": [
    "#### 42. Consider two random array A and B, check if they are equal (★★☆)"
   ]
  },
  {
   "cell_type": "code",
   "execution_count": null,
   "id": "7db3846d",
   "metadata": {},
   "outputs": [],
   "source": [
    "#nvm"
   ]
  },
  {
   "cell_type": "markdown",
   "id": "c68d2401",
   "metadata": {},
   "source": [
    "#### 43. Make an array immutable (read-only) (★★☆)"
   ]
  },
  {
   "cell_type": "code",
   "execution_count": 47,
   "id": "7828539d",
   "metadata": {},
   "outputs": [
    {
     "ename": "ValueError",
     "evalue": "assignment destination is read-only",
     "output_type": "error",
     "traceback": [
      "\u001b[0;31m---------------------------------------------------------------------------\u001b[0m",
      "\u001b[0;31mValueError\u001b[0m                                Traceback (most recent call last)",
      "Cell \u001b[0;32mIn[47], line 3\u001b[0m\n\u001b[1;32m      1\u001b[0m a \u001b[38;5;241m=\u001b[39m np\u001b[38;5;241m.\u001b[39marange(\u001b[38;5;241m11\u001b[39m)\n\u001b[1;32m      2\u001b[0m a\u001b[38;5;241m.\u001b[39mflags\u001b[38;5;241m.\u001b[39mwriteable \u001b[38;5;241m=\u001b[39m \u001b[38;5;28;01mFalse\u001b[39;00m\n\u001b[0;32m----> 3\u001b[0m \u001b[43ma\u001b[49m\u001b[43m[\u001b[49m\u001b[38;5;241;43m0\u001b[39;49m\u001b[43m]\u001b[49m \u001b[38;5;241m=\u001b[39m \u001b[38;5;241m221\u001b[39m\n",
      "\u001b[0;31mValueError\u001b[0m: assignment destination is read-only"
     ]
    }
   ],
   "source": [
    "a = np.arange(11)\n",
    "a.flags.writeable = False\n",
    "# a[0] = 221"
   ]
  },
  {
   "cell_type": "markdown",
   "id": "55df6280",
   "metadata": {},
   "source": [
    "#### 44. Consider a random 10x2 matrix representing cartesian coordinates, convert them to polar coordinates (★★☆)"
   ]
  },
  {
   "cell_type": "code",
   "execution_count": 67,
   "id": "f1c86ea0",
   "metadata": {},
   "outputs": [
    {
     "name": "stdout",
     "output_type": "stream",
     "text": [
      "[[ 1.14839322 -0.0136331 ]\n",
      " [ 0.36354217 -0.05763569]\n",
      " [-0.35723368  0.18252055]\n",
      " [-2.2489762   1.20059944]\n",
      " [ 0.77440205  1.98045396]\n",
      " [-0.79923905  1.50537873]\n",
      " [ 0.03917471 -0.33298857]\n",
      " [ 0.86530537 -2.74760116]\n",
      " [-2.56296588  0.64818373]\n",
      " [ 0.93721666  0.96138863]]\n",
      "[[ 1.14847414  0.36808257  0.40116039  2.54937894  2.12647511  1.70439085\n",
      "   0.33528502  2.88063631  2.64365963  1.34262547]\n",
      " [-0.0118709  -0.15723062  2.66924122  2.65123888  1.19805306  2.05887463\n",
      "  -1.45368881 -1.26569808  2.8938829   0.79812891]]\n",
      "[[ 0.00000000e+00 -5.55111512e-17 -5.55111512e-17  0.00000000e+00\n",
      "   0.00000000e+00 -2.22044605e-16  0.00000000e+00  4.44089210e-16\n",
      "   0.00000000e+00  0.00000000e+00]\n",
      " [ 0.00000000e+00  0.00000000e+00  0.00000000e+00  0.00000000e+00\n",
      "   0.00000000e+00  0.00000000e+00  0.00000000e+00  0.00000000e+00\n",
      "   0.00000000e+00  0.00000000e+00]]\n"
     ]
    }
   ],
   "source": [
    "a = np.random.randn(20).reshape(10,2)\n",
    "print(a)\n",
    "x,y = a[:,0],a[:,1]\n",
    "# print(f\"hey hey{x}\")\n",
    "b = np.array([np.absolute(x+1j*y),np.angle(x+1j*y)])\n",
    "print(b)\n",
    "#sanity check:\n",
    "l,m = a[:,0], a[:,1]\n",
    "R = np.sqrt(l**2+m**2)\n",
    "T = np.arctan2(m,l)\n",
    "diff = b-[R,T]\n",
    "print(diff)"
   ]
  },
  {
   "cell_type": "markdown",
   "id": "2f60f1ec",
   "metadata": {},
   "source": [
    "#### 45. Create random vector of size 10 and replace the maximum value by 0 (★★☆)"
   ]
  },
  {
   "cell_type": "code",
   "execution_count": 70,
   "id": "d9f48f1c",
   "metadata": {},
   "outputs": [
    {
     "name": "stdout",
     "output_type": "stream",
     "text": [
      "[0.93852914 0.36755729 0.864156   0.72097707 0.3774627  0.26731478\n",
      " 0.98681893 0.67915269 0.24945898 0.02208333]\n",
      "[0.93852914 0.36755729 0.864156   0.72097707 0.3774627  0.26731478\n",
      " 0.         0.67915269 0.24945898 0.02208333]\n"
     ]
    }
   ],
   "source": [
    "A = np.random.random(10)\n",
    "print(A)\n",
    "A[np.argmax(A)] = 0\n",
    "print(A)\n"
   ]
  },
  {
   "cell_type": "markdown",
   "id": "084e8ad4",
   "metadata": {},
   "source": [
    "#### 46. Create a structured array with `x` and `y` coordinates covering the [0,1]x[0,1] area (★★☆)"
   ]
  },
  {
   "cell_type": "code",
   "execution_count": 79,
   "id": "58b47c13",
   "metadata": {},
   "outputs": [
    {
     "name": "stdout",
     "output_type": "stream",
     "text": [
      "(3, 3)\n",
      "(3, 3)\n"
     ]
    }
   ],
   "source": [
    "a = np.zeros((3,3),[('x',float),('y',float)])\n",
    "a['x'] = np.linspace(0,1,3)\n",
    "a['y'] = np.linspace(0,1,3)\n",
    "print(np.shape(a))\n",
    "\n",
    "Z = np.zeros((3,3), [('x',float),('y',float)])\n",
    "Z['x'], Z['y'] = np.meshgrid(np.linspace(0,1,3),\n",
    "                             np.linspace(0,1,3))\n",
    "print(np.shape(Z))"
   ]
  },
  {
   "cell_type": "markdown",
   "id": "d7b9bc42",
   "metadata": {},
   "source": [
    "#### 47. Given two arrays, X and Y, construct the Cauchy matrix C (Cij =1/(xi - yj)) (★★☆)"
   ]
  },
  {
   "cell_type": "code",
   "execution_count": 81,
   "id": "a24824fb",
   "metadata": {},
   "outputs": [
    {
     "name": "stdout",
     "output_type": "stream",
     "text": [
      "[[ 0.56804652 -0.87623768  2.67091125]\n",
      " [ 2.20318081 -0.40853464 -1.07281642]]\n"
     ]
    }
   ],
   "source": [
    "x = np.random.randn(2)\n",
    "y = np.random.randn(3)\n",
    "C = 1/np.subtract.outer(x,y)\n",
    "print(C)"
   ]
  },
  {
   "cell_type": "markdown",
   "id": "65ebc11b",
   "metadata": {},
   "source": [
    "#### 48. Print the minimum and maximum representable value for each numpy scalar type (★★☆)"
   ]
  },
  {
   "cell_type": "code",
   "execution_count": 99,
   "id": "e45d38fb",
   "metadata": {},
   "outputs": [
    {
     "name": "stdout",
     "output_type": "stream",
     "text": [
      "12\n",
      "12\n"
     ]
    }
   ],
   "source": [
    "x = np.tile(np.array([0,12,3,12,12,12]),23)\n",
    "print(np.argmax(np.bincount(x)))\n",
    "\n",
    "_,z = np.unique(x,return_index=True)\n",
    "print(x[z[-1]])\n",
    "# I thought you were supposed to find the most ocurring value of a given array\n"
   ]
  },
  {
   "cell_type": "markdown",
   "id": "9b317a98",
   "metadata": {},
   "source": [
    "#### 49. How to print all the values of an array? (★★☆)"
   ]
  },
  {
   "cell_type": "code",
   "execution_count": 100,
   "id": "309cdeb9",
   "metadata": {},
   "outputs": [
    {
     "name": "stdout",
     "output_type": "stream",
     "text": [
      "[[0. 0. 0. 0. 0. 0. 0. 0. 0. 0. 0. 0. 0. 0. 0. 0. 0. 0. 0. 0. 0. 0. 0. 0.\n",
      "  0. 0. 0. 0. 0. 0. 0. 0. 0. 0. 0. 0. 0. 0. 0. 0.]\n",
      " [0. 0. 0. 0. 0. 0. 0. 0. 0. 0. 0. 0. 0. 0. 0. 0. 0. 0. 0. 0. 0. 0. 0. 0.\n",
      "  0. 0. 0. 0. 0. 0. 0. 0. 0. 0. 0. 0. 0. 0. 0. 0.]\n",
      " [0. 0. 0. 0. 0. 0. 0. 0. 0. 0. 0. 0. 0. 0. 0. 0. 0. 0. 0. 0. 0. 0. 0. 0.\n",
      "  0. 0. 0. 0. 0. 0. 0. 0. 0. 0. 0. 0. 0. 0. 0. 0.]\n",
      " [0. 0. 0. 0. 0. 0. 0. 0. 0. 0. 0. 0. 0. 0. 0. 0. 0. 0. 0. 0. 0. 0. 0. 0.\n",
      "  0. 0. 0. 0. 0. 0. 0. 0. 0. 0. 0. 0. 0. 0. 0. 0.]\n",
      " [0. 0. 0. 0. 0. 0. 0. 0. 0. 0. 0. 0. 0. 0. 0. 0. 0. 0. 0. 0. 0. 0. 0. 0.\n",
      "  0. 0. 0. 0. 0. 0. 0. 0. 0. 0. 0. 0. 0. 0. 0. 0.]\n",
      " [0. 0. 0. 0. 0. 0. 0. 0. 0. 0. 0. 0. 0. 0. 0. 0. 0. 0. 0. 0. 0. 0. 0. 0.\n",
      "  0. 0. 0. 0. 0. 0. 0. 0. 0. 0. 0. 0. 0. 0. 0. 0.]\n",
      " [0. 0. 0. 0. 0. 0. 0. 0. 0. 0. 0. 0. 0. 0. 0. 0. 0. 0. 0. 0. 0. 0. 0. 0.\n",
      "  0. 0. 0. 0. 0. 0. 0. 0. 0. 0. 0. 0. 0. 0. 0. 0.]\n",
      " [0. 0. 0. 0. 0. 0. 0. 0. 0. 0. 0. 0. 0. 0. 0. 0. 0. 0. 0. 0. 0. 0. 0. 0.\n",
      "  0. 0. 0. 0. 0. 0. 0. 0. 0. 0. 0. 0. 0. 0. 0. 0.]\n",
      " [0. 0. 0. 0. 0. 0. 0. 0. 0. 0. 0. 0. 0. 0. 0. 0. 0. 0. 0. 0. 0. 0. 0. 0.\n",
      "  0. 0. 0. 0. 0. 0. 0. 0. 0. 0. 0. 0. 0. 0. 0. 0.]\n",
      " [0. 0. 0. 0. 0. 0. 0. 0. 0. 0. 0. 0. 0. 0. 0. 0. 0. 0. 0. 0. 0. 0. 0. 0.\n",
      "  0. 0. 0. 0. 0. 0. 0. 0. 0. 0. 0. 0. 0. 0. 0. 0.]\n",
      " [0. 0. 0. 0. 0. 0. 0. 0. 0. 0. 0. 0. 0. 0. 0. 0. 0. 0. 0. 0. 0. 0. 0. 0.\n",
      "  0. 0. 0. 0. 0. 0. 0. 0. 0. 0. 0. 0. 0. 0. 0. 0.]\n",
      " [0. 0. 0. 0. 0. 0. 0. 0. 0. 0. 0. 0. 0. 0. 0. 0. 0. 0. 0. 0. 0. 0. 0. 0.\n",
      "  0. 0. 0. 0. 0. 0. 0. 0. 0. 0. 0. 0. 0. 0. 0. 0.]\n",
      " [0. 0. 0. 0. 0. 0. 0. 0. 0. 0. 0. 0. 0. 0. 0. 0. 0. 0. 0. 0. 0. 0. 0. 0.\n",
      "  0. 0. 0. 0. 0. 0. 0. 0. 0. 0. 0. 0. 0. 0. 0. 0.]\n",
      " [0. 0. 0. 0. 0. 0. 0. 0. 0. 0. 0. 0. 0. 0. 0. 0. 0. 0. 0. 0. 0. 0. 0. 0.\n",
      "  0. 0. 0. 0. 0. 0. 0. 0. 0. 0. 0. 0. 0. 0. 0. 0.]\n",
      " [0. 0. 0. 0. 0. 0. 0. 0. 0. 0. 0. 0. 0. 0. 0. 0. 0. 0. 0. 0. 0. 0. 0. 0.\n",
      "  0. 0. 0. 0. 0. 0. 0. 0. 0. 0. 0. 0. 0. 0. 0. 0.]\n",
      " [0. 0. 0. 0. 0. 0. 0. 0. 0. 0. 0. 0. 0. 0. 0. 0. 0. 0. 0. 0. 0. 0. 0. 0.\n",
      "  0. 0. 0. 0. 0. 0. 0. 0. 0. 0. 0. 0. 0. 0. 0. 0.]\n",
      " [0. 0. 0. 0. 0. 0. 0. 0. 0. 0. 0. 0. 0. 0. 0. 0. 0. 0. 0. 0. 0. 0. 0. 0.\n",
      "  0. 0. 0. 0. 0. 0. 0. 0. 0. 0. 0. 0. 0. 0. 0. 0.]\n",
      " [0. 0. 0. 0. 0. 0. 0. 0. 0. 0. 0. 0. 0. 0. 0. 0. 0. 0. 0. 0. 0. 0. 0. 0.\n",
      "  0. 0. 0. 0. 0. 0. 0. 0. 0. 0. 0. 0. 0. 0. 0. 0.]\n",
      " [0. 0. 0. 0. 0. 0. 0. 0. 0. 0. 0. 0. 0. 0. 0. 0. 0. 0. 0. 0. 0. 0. 0. 0.\n",
      "  0. 0. 0. 0. 0. 0. 0. 0. 0. 0. 0. 0. 0. 0. 0. 0.]\n",
      " [0. 0. 0. 0. 0. 0. 0. 0. 0. 0. 0. 0. 0. 0. 0. 0. 0. 0. 0. 0. 0. 0. 0. 0.\n",
      "  0. 0. 0. 0. 0. 0. 0. 0. 0. 0. 0. 0. 0. 0. 0. 0.]\n",
      " [0. 0. 0. 0. 0. 0. 0. 0. 0. 0. 0. 0. 0. 0. 0. 0. 0. 0. 0. 0. 0. 0. 0. 0.\n",
      "  0. 0. 0. 0. 0. 0. 0. 0. 0. 0. 0. 0. 0. 0. 0. 0.]\n",
      " [0. 0. 0. 0. 0. 0. 0. 0. 0. 0. 0. 0. 0. 0. 0. 0. 0. 0. 0. 0. 0. 0. 0. 0.\n",
      "  0. 0. 0. 0. 0. 0. 0. 0. 0. 0. 0. 0. 0. 0. 0. 0.]\n",
      " [0. 0. 0. 0. 0. 0. 0. 0. 0. 0. 0. 0. 0. 0. 0. 0. 0. 0. 0. 0. 0. 0. 0. 0.\n",
      "  0. 0. 0. 0. 0. 0. 0. 0. 0. 0. 0. 0. 0. 0. 0. 0.]\n",
      " [0. 0. 0. 0. 0. 0. 0. 0. 0. 0. 0. 0. 0. 0. 0. 0. 0. 0. 0. 0. 0. 0. 0. 0.\n",
      "  0. 0. 0. 0. 0. 0. 0. 0. 0. 0. 0. 0. 0. 0. 0. 0.]\n",
      " [0. 0. 0. 0. 0. 0. 0. 0. 0. 0. 0. 0. 0. 0. 0. 0. 0. 0. 0. 0. 0. 0. 0. 0.\n",
      "  0. 0. 0. 0. 0. 0. 0. 0. 0. 0. 0. 0. 0. 0. 0. 0.]\n",
      " [0. 0. 0. 0. 0. 0. 0. 0. 0. 0. 0. 0. 0. 0. 0. 0. 0. 0. 0. 0. 0. 0. 0. 0.\n",
      "  0. 0. 0. 0. 0. 0. 0. 0. 0. 0. 0. 0. 0. 0. 0. 0.]\n",
      " [0. 0. 0. 0. 0. 0. 0. 0. 0. 0. 0. 0. 0. 0. 0. 0. 0. 0. 0. 0. 0. 0. 0. 0.\n",
      "  0. 0. 0. 0. 0. 0. 0. 0. 0. 0. 0. 0. 0. 0. 0. 0.]\n",
      " [0. 0. 0. 0. 0. 0. 0. 0. 0. 0. 0. 0. 0. 0. 0. 0. 0. 0. 0. 0. 0. 0. 0. 0.\n",
      "  0. 0. 0. 0. 0. 0. 0. 0. 0. 0. 0. 0. 0. 0. 0. 0.]\n",
      " [0. 0. 0. 0. 0. 0. 0. 0. 0. 0. 0. 0. 0. 0. 0. 0. 0. 0. 0. 0. 0. 0. 0. 0.\n",
      "  0. 0. 0. 0. 0. 0. 0. 0. 0. 0. 0. 0. 0. 0. 0. 0.]\n",
      " [0. 0. 0. 0. 0. 0. 0. 0. 0. 0. 0. 0. 0. 0. 0. 0. 0. 0. 0. 0. 0. 0. 0. 0.\n",
      "  0. 0. 0. 0. 0. 0. 0. 0. 0. 0. 0. 0. 0. 0. 0. 0.]\n",
      " [0. 0. 0. 0. 0. 0. 0. 0. 0. 0. 0. 0. 0. 0. 0. 0. 0. 0. 0. 0. 0. 0. 0. 0.\n",
      "  0. 0. 0. 0. 0. 0. 0. 0. 0. 0. 0. 0. 0. 0. 0. 0.]\n",
      " [0. 0. 0. 0. 0. 0. 0. 0. 0. 0. 0. 0. 0. 0. 0. 0. 0. 0. 0. 0. 0. 0. 0. 0.\n",
      "  0. 0. 0. 0. 0. 0. 0. 0. 0. 0. 0. 0. 0. 0. 0. 0.]\n",
      " [0. 0. 0. 0. 0. 0. 0. 0. 0. 0. 0. 0. 0. 0. 0. 0. 0. 0. 0. 0. 0. 0. 0. 0.\n",
      "  0. 0. 0. 0. 0. 0. 0. 0. 0. 0. 0. 0. 0. 0. 0. 0.]\n",
      " [0. 0. 0. 0. 0. 0. 0. 0. 0. 0. 0. 0. 0. 0. 0. 0. 0. 0. 0. 0. 0. 0. 0. 0.\n",
      "  0. 0. 0. 0. 0. 0. 0. 0. 0. 0. 0. 0. 0. 0. 0. 0.]\n",
      " [0. 0. 0. 0. 0. 0. 0. 0. 0. 0. 0. 0. 0. 0. 0. 0. 0. 0. 0. 0. 0. 0. 0. 0.\n",
      "  0. 0. 0. 0. 0. 0. 0. 0. 0. 0. 0. 0. 0. 0. 0. 0.]\n",
      " [0. 0. 0. 0. 0. 0. 0. 0. 0. 0. 0. 0. 0. 0. 0. 0. 0. 0. 0. 0. 0. 0. 0. 0.\n",
      "  0. 0. 0. 0. 0. 0. 0. 0. 0. 0. 0. 0. 0. 0. 0. 0.]\n",
      " [0. 0. 0. 0. 0. 0. 0. 0. 0. 0. 0. 0. 0. 0. 0. 0. 0. 0. 0. 0. 0. 0. 0. 0.\n",
      "  0. 0. 0. 0. 0. 0. 0. 0. 0. 0. 0. 0. 0. 0. 0. 0.]\n",
      " [0. 0. 0. 0. 0. 0. 0. 0. 0. 0. 0. 0. 0. 0. 0. 0. 0. 0. 0. 0. 0. 0. 0. 0.\n",
      "  0. 0. 0. 0. 0. 0. 0. 0. 0. 0. 0. 0. 0. 0. 0. 0.]\n",
      " [0. 0. 0. 0. 0. 0. 0. 0. 0. 0. 0. 0. 0. 0. 0. 0. 0. 0. 0. 0. 0. 0. 0. 0.\n",
      "  0. 0. 0. 0. 0. 0. 0. 0. 0. 0. 0. 0. 0. 0. 0. 0.]\n",
      " [0. 0. 0. 0. 0. 0. 0. 0. 0. 0. 0. 0. 0. 0. 0. 0. 0. 0. 0. 0. 0. 0. 0. 0.\n",
      "  0. 0. 0. 0. 0. 0. 0. 0. 0. 0. 0. 0. 0. 0. 0. 0.]]\n"
     ]
    }
   ],
   "source": [
    "np.set_printoptions(threshold=float(\"inf\"))\n",
    "Z = np.zeros((40,40))\n",
    "print(Z)"
   ]
  },
  {
   "cell_type": "markdown",
   "id": "b580f9d0",
   "metadata": {},
   "source": [
    "#### 50. How to find the closest value (to a given scalar) in a vector? (★★☆)"
   ]
  },
  {
   "cell_type": "code",
   "execution_count": 111,
   "id": "ebfb6714",
   "metadata": {},
   "outputs": [
    {
     "name": "stdout",
     "output_type": "stream",
     "text": [
      "[5.18753152 4.89204774 2.13121389 2.95910245 4.50396589 7.92132466\n",
      " 1.56174727] -0.3262593934740482 7.921324663888237\n",
      "the first value in the sorted version is 7.921324663888237\n"
     ]
    }
   ],
   "source": [
    "x = np.random.rand(7)*10\n",
    "t = np.random.randn()\n",
    "y = x[np.argmax(np.absolute(x-t))]\n",
    "w = sorted(x,reverse=True,key = lambda q: (q-t)**2)\n",
    "print(x,t,y)\n",
    "print(f'the first value in the sorted version is {w[0]}')\n"
   ]
  },
  {
   "cell_type": "markdown",
   "id": "602e6252",
   "metadata": {},
   "source": [
    "#### 51. Create a structured array representing a position (x,y) and a color (r,g,b) (★★☆)"
   ]
  },
  {
   "cell_type": "code",
   "execution_count": 117,
   "id": "cf002b3a",
   "metadata": {},
   "outputs": [
    {
     "name": "stdout",
     "output_type": "stream",
     "text": [
      "[((1., 2.), (3., 4., 9.)) ((1., 1.), (1., 1., 1.))\n",
      " ((0., 0.), (0., 0., 0.))]\n"
     ]
    }
   ],
   "source": [
    "z = np.zeros(3,[('position',[('x',float),('y',float) ]),('color',[('r',float),('g',float),('b',float) ])])\n",
    "z[0]=((1,2),(3,4,9))\n",
    "z[1] = 1\n",
    "print(z)"
   ]
  },
  {
   "cell_type": "markdown",
   "id": "78bcd92f",
   "metadata": {},
   "source": [
    "#### 52. Consider a random vector with shape (100,2) representing coordinates, find point by point distances (★★☆)"
   ]
  },
  {
   "cell_type": "code",
   "execution_count": null,
   "id": "fea7f9a6",
   "metadata": {},
   "outputs": [],
   "source": [
    "#nvm\n"
   ]
  },
  {
   "cell_type": "markdown",
   "id": "343c5a85",
   "metadata": {},
   "source": [
    "#### 53. How to convert a float (32 bits) array into an integer (32 bits) in place?"
   ]
  },
  {
   "cell_type": "code",
   "execution_count": 122,
   "id": "fc1b687b",
   "metadata": {},
   "outputs": [
    {
     "name": "stdout",
     "output_type": "stream",
     "text": [
      "[ 1070956120 -1088610107 -1085333777 -1096384435 -1085137247 -1077865225\n",
      "  1069206039 -1103873261 -1080843203 -1081459851] [ 1070956120 -1088610107 -1085333777 -1096384435 -1085137247 -1077865225\n",
      "  1069206039 -1103873261 -1080843203 -1081459851]\n"
     ]
    }
   ],
   "source": [
    "a = np.random.randn(10).astype(np.float32)\n",
    "y = a.view(np.int32)\n",
    "a = y[:] \n",
    "#Without this line, the a array would still be a view of the same memory as the y array,\n",
    " #and any changes made to one array would affect the other array.\n",
    "print(a,y)"
   ]
  },
  {
   "cell_type": "markdown",
   "id": "a69e1ace",
   "metadata": {},
   "source": [
    "#### 54. How to read the following file? (★★☆)\n",
    "```\n",
    "1, 2, 3, 4, 5\n",
    "6,  ,  , 7, 8\n",
    " ,  , 9,10,11\n",
    "```"
   ]
  },
  {
   "cell_type": "code",
   "execution_count": 130,
   "id": "1c7957d4",
   "metadata": {},
   "outputs": [
    {
     "name": "stdout",
     "output_type": "stream",
     "text": [
      "[[ 1.  2.  3.  4.  5.]\n",
      " [ 6. nan nan  7.  8.]\n",
      " [nan nan  9. 10. 11.]]\n"
     ]
    }
   ],
   "source": [
    "from io import StringIO\n",
    "file = StringIO('''1, 2, 3, 4, 5\n",
    "6,  ,  , 7, 8\n",
    " ,  , 9,10,11''')\n",
    "x = np.genfromtxt(file,delimiter=',',dtype=float)\n",
    "print(x)\n"
   ]
  },
  {
   "cell_type": "markdown",
   "id": "c23bd80d",
   "metadata": {},
   "source": [
    "#### 55. What is the equivalent of enumerate for numpy arrays? (★★☆)"
   ]
  },
  {
   "cell_type": "code",
   "execution_count": null,
   "id": "d95d9578",
   "metadata": {},
   "outputs": [],
   "source": [
    "#nvm"
   ]
  },
  {
   "cell_type": "markdown",
   "id": "2153a5ec",
   "metadata": {},
   "source": [
    "#### 56. Generate a generic 2D Gaussian-like array (★★☆)"
   ]
  },
  {
   "cell_type": "code",
   "execution_count": 134,
   "id": "61122d1e",
   "metadata": {},
   "outputs": [
    {
     "name": "stdout",
     "output_type": "stream",
     "text": [
      "[[0.14676266 0.2288945  0.2288945  0.14676266]\n",
      " [0.2288945  0.35698924 0.35698924 0.2288945 ]\n",
      " [0.2288945  0.35698924 0.35698924 0.2288945 ]\n",
      " [0.14676266 0.2288945  0.2288945  0.14676266]]\n"
     ]
    }
   ],
   "source": [
    "import math\n",
    "x , y = np.meshgrid(np.linspace(-1,1,4),np.linspace(-1,1,4))\n",
    "sigma , mu = 1. , 0.\n",
    "Gaussian2D = np.exp((-(x-mu)**2-(y-mu)**2)/(2*sigma**2))/(2*math.pi*sigma**2)**0.5\n",
    "print(Gaussian2D)"
   ]
  },
  {
   "cell_type": "code",
   "execution_count": null,
   "id": "db767672",
   "metadata": {},
   "outputs": [],
   "source": []
  },
  {
   "cell_type": "markdown",
   "id": "2e76d589",
   "metadata": {},
   "source": [
    "#### 57. How to randomly place p elements in a 2D array? (★★☆)"
   ]
  },
  {
   "cell_type": "code",
   "execution_count": 148,
   "id": "0c2e4fcc",
   "metadata": {},
   "outputs": [
    {
     "name": "stdout",
     "output_type": "stream",
     "text": [
      "[1 1 2 1 1 1 1 1 1 9]\n"
     ]
    }
   ],
   "source": [
    "x = np.arange(10)\n",
    "p = np.random.randint(0,9)\n",
    "np.put(x,np.random.choice(range(10),p,replace=False),1)\n",
    "print(x)"
   ]
  },
  {
   "cell_type": "markdown",
   "id": "8b3933eb",
   "metadata": {},
   "source": [
    "#### 58. Subtract the mean of each row of a matrix (★★☆)"
   ]
  },
  {
   "cell_type": "code",
   "execution_count": null,
   "id": "a306c9ef",
   "metadata": {},
   "outputs": [],
   "source": []
  },
  {
   "cell_type": "markdown",
   "id": "ea8807c0",
   "metadata": {},
   "source": [
    "#### 59. How to sort an array by the nth column? (★★☆)"
   ]
  },
  {
   "cell_type": "code",
   "execution_count": null,
   "id": "cc89a699",
   "metadata": {},
   "outputs": [],
   "source": []
  },
  {
   "cell_type": "markdown",
   "id": "00fa00a1",
   "metadata": {},
   "source": [
    "#### 60. How to tell if a given 2D array has null columns? (★★☆)"
   ]
  },
  {
   "cell_type": "code",
   "execution_count": null,
   "id": "3436e165",
   "metadata": {},
   "outputs": [],
   "source": []
  },
  {
   "cell_type": "markdown",
   "id": "5a65c7a2",
   "metadata": {},
   "source": [
    "#### 61. Find the nearest value from a given value in an array (★★☆)"
   ]
  },
  {
   "cell_type": "code",
   "execution_count": null,
   "id": "73f149d6",
   "metadata": {},
   "outputs": [],
   "source": []
  },
  {
   "cell_type": "markdown",
   "id": "dd83e8af",
   "metadata": {},
   "source": [
    "#### 62. Considering two arrays with shape (1,3) and (3,1), how to compute their sum using an iterator? (★★☆)"
   ]
  },
  {
   "cell_type": "code",
   "execution_count": 157,
   "id": "29a709a1",
   "metadata": {},
   "outputs": [
    {
     "name": "stdout",
     "output_type": "stream",
     "text": [
      "[[[-2.78691174 -2.94973231 -2.48561493]\n",
      "  [-2.94973231 -3.11255289 -2.64843551]\n",
      "  [-2.48561493 -2.64843551 -2.18431812]]]\n"
     ]
    }
   ],
   "source": [
    "a = np.random.randn(1,3)\n",
    "b = np.transpose(a)\n",
    "c = a[:,np.newaxis]+b\n",
    "print(c)\n",
    "#idk doesnt matter right now"
   ]
  },
  {
   "cell_type": "markdown",
   "id": "6c042efa",
   "metadata": {},
   "source": [
    "#### 63. Create an array class that has a name attribute (★★☆)"
   ]
  },
  {
   "cell_type": "code",
   "execution_count": 165,
   "id": "45b3d2e0",
   "metadata": {},
   "outputs": [
    {
     "name": "stdout",
     "output_type": "stream",
     "text": [
      "shmulik\n"
     ]
    }
   ],
   "source": [
    "class ArrayWithName(np.ndarray):\n",
    "    \n",
    "    def __new__(cls,array,name='shmulik'): #this creates a new instance of the ArrayWithName class\n",
    "        obj = np.asarray(array).view(cls) #the view(cls) specifies what is obj's type. Ron let's talk about it\n",
    "        obj.name = name\n",
    "        return obj\n",
    "    \n",
    "    def __ArrayFixer__(self,obj):\n",
    "        if obj is None:\n",
    "            return \n",
    "        self.name = getattr(obj,'name',None)\n",
    "\n",
    "ari = ArrayWithName([1,2,3])\n",
    "print(ari.name)\n",
    "\n"
   ]
  },
  {
   "cell_type": "markdown",
   "id": "0a075c3d",
   "metadata": {},
   "source": [
    "#### 64. Consider a given vector, how to add 1 to each element indexed by a second vector (be careful with repeated indices)? (★★★)"
   ]
  },
  {
   "cell_type": "code",
   "execution_count": null,
   "id": "36c50470",
   "metadata": {},
   "outputs": [],
   "source": [
    "#nvm"
   ]
  },
  {
   "cell_type": "markdown",
   "id": "0fb2f0c5",
   "metadata": {},
   "source": [
    "#### 65. How to accumulate elements of a vector (X) to an array (F) based on an index list (I)? (★★★)"
   ]
  },
  {
   "cell_type": "code",
   "execution_count": null,
   "id": "58aa5f82",
   "metadata": {},
   "outputs": [],
   "source": []
  },
  {
   "cell_type": "markdown",
   "id": "d89dc506",
   "metadata": {},
   "source": [
    "#### 66. Considering a (w,h,3) image of (dtype=ubyte), compute the number of unique colors (★★☆)"
   ]
  },
  {
   "cell_type": "code",
   "execution_count": null,
   "id": "8fb43a49",
   "metadata": {},
   "outputs": [],
   "source": []
  },
  {
   "cell_type": "markdown",
   "id": "535a5d81",
   "metadata": {},
   "source": [
    "#### 67. Considering a four dimensions array, how to get sum over the last two axis at once? (★★★)"
   ]
  },
  {
   "cell_type": "code",
   "execution_count": null,
   "id": "f954ab9d",
   "metadata": {},
   "outputs": [],
   "source": []
  },
  {
   "cell_type": "markdown",
   "id": "eee66d3c",
   "metadata": {},
   "source": [
    "#### 68. Considering a one-dimensional vector D, how to compute means of subsets of D using a vector S of same size describing subset  indices? (★★★)"
   ]
  },
  {
   "cell_type": "code",
   "execution_count": null,
   "id": "8929773a",
   "metadata": {},
   "outputs": [],
   "source": []
  },
  {
   "cell_type": "markdown",
   "id": "f90d4c40",
   "metadata": {},
   "source": [
    "#### 69. How to get the diagonal of a dot product? (★★★)"
   ]
  },
  {
   "cell_type": "code",
   "execution_count": null,
   "id": "b47d392d",
   "metadata": {},
   "outputs": [],
   "source": []
  },
  {
   "cell_type": "markdown",
   "id": "a8a97e7d",
   "metadata": {},
   "source": [
    "#### 70. Consider the vector [1, 2, 3, 4, 5], how to build a new vector with 3 consecutive zeros interleaved between each value? (★★★)"
   ]
  },
  {
   "cell_type": "code",
   "execution_count": null,
   "id": "ee6c6c37",
   "metadata": {},
   "outputs": [],
   "source": []
  },
  {
   "cell_type": "markdown",
   "id": "d6a30d60",
   "metadata": {},
   "source": [
    "#### 71. Consider an array of dimension (5,5,3), how to mulitply it by an array with dimensions (5,5)? (★★★)"
   ]
  },
  {
   "cell_type": "code",
   "execution_count": null,
   "id": "e9703f2e",
   "metadata": {},
   "outputs": [],
   "source": []
  },
  {
   "cell_type": "markdown",
   "id": "bac359a9",
   "metadata": {},
   "source": [
    "#### 72. How to swap two rows of an array? (★★★)"
   ]
  },
  {
   "cell_type": "code",
   "execution_count": null,
   "id": "f1b432b1",
   "metadata": {},
   "outputs": [],
   "source": []
  },
  {
   "cell_type": "markdown",
   "id": "620c9f83",
   "metadata": {},
   "source": [
    "#### 73. Consider a set of 10 triplets describing 10 triangles (with shared vertices), find the set of unique line segments composing all the  triangles (★★★)"
   ]
  },
  {
   "cell_type": "code",
   "execution_count": null,
   "id": "4e595ffc",
   "metadata": {},
   "outputs": [],
   "source": []
  },
  {
   "cell_type": "markdown",
   "id": "a76c55a2",
   "metadata": {},
   "source": [
    "#### 74. Given a sorted array C that corresponds to a bincount, how to produce an array A such that np.bincount(A) == C? (★★★)"
   ]
  },
  {
   "cell_type": "code",
   "execution_count": null,
   "id": "2d2ae65a",
   "metadata": {},
   "outputs": [],
   "source": []
  },
  {
   "cell_type": "markdown",
   "id": "d550c8e2",
   "metadata": {},
   "source": [
    "#### 75. How to compute averages using a sliding window over an array? (★★★)"
   ]
  },
  {
   "cell_type": "code",
   "execution_count": null,
   "id": "841c457c",
   "metadata": {},
   "outputs": [],
   "source": []
  },
  {
   "cell_type": "markdown",
   "id": "6b170b00",
   "metadata": {},
   "source": [
    "#### 76. Consider a one-dimensional array Z, build a two-dimensional array whose first row is (Z[0],Z[1],Z[2]) and each subsequent row is  shifted by 1 (last row should be (Z[-3],Z[-2],Z[-1]) (★★★)"
   ]
  },
  {
   "cell_type": "code",
   "execution_count": null,
   "id": "d9a0cf4e",
   "metadata": {},
   "outputs": [],
   "source": []
  },
  {
   "cell_type": "markdown",
   "id": "e94a5c1d",
   "metadata": {},
   "source": [
    "#### 77. How to negate a boolean, or to change the sign of a float inplace? (★★★)"
   ]
  },
  {
   "cell_type": "code",
   "execution_count": null,
   "id": "c0f9504f",
   "metadata": {},
   "outputs": [],
   "source": []
  },
  {
   "cell_type": "markdown",
   "id": "4eb8b5c1",
   "metadata": {},
   "source": [
    "#### 78. Consider 2 sets of points P0,P1 describing lines (2d) and a point p, how to compute distance from p to each line i (P0[i],P1[i])? (★★★)"
   ]
  },
  {
   "cell_type": "code",
   "execution_count": null,
   "id": "487f47ec",
   "metadata": {},
   "outputs": [],
   "source": []
  },
  {
   "cell_type": "markdown",
   "id": "3df99948",
   "metadata": {},
   "source": [
    "#### 79. Consider 2 sets of points P0,P1 describing lines (2d) and a set of points P, how to compute distance from each point j (P[j]) to each line i (P0[i],P1[i])? (★★★)"
   ]
  },
  {
   "cell_type": "code",
   "execution_count": null,
   "id": "dc2df37b",
   "metadata": {},
   "outputs": [],
   "source": []
  },
  {
   "cell_type": "markdown",
   "id": "11e972c2",
   "metadata": {},
   "source": [
    "#### 80. Consider an arbitrary array, write a function that extract a subpart with a fixed shape and centered on a given element (pad with a `fill` value when necessary) (★★★)"
   ]
  },
  {
   "cell_type": "code",
   "execution_count": null,
   "id": "0291247f",
   "metadata": {},
   "outputs": [],
   "source": []
  },
  {
   "cell_type": "markdown",
   "id": "93cfeab3",
   "metadata": {},
   "source": [
    "#### 81. Consider an array Z = [1,2,3,4,5,6,7,8,9,10,11,12,13,14], how to generate an array R = [[1,2,3,4], [2,3,4,5], [3,4,5,6], ..., [11,12,13,14]]? (★★★)"
   ]
  },
  {
   "cell_type": "code",
   "execution_count": null,
   "id": "360de791",
   "metadata": {},
   "outputs": [],
   "source": []
  },
  {
   "cell_type": "markdown",
   "id": "4c15ceff",
   "metadata": {},
   "source": [
    "#### 82. Compute a matrix rank (★★★)"
   ]
  },
  {
   "cell_type": "code",
   "execution_count": 189,
   "id": "9a4272d2",
   "metadata": {},
   "outputs": [
    {
     "data": {
      "text/plain": [
       "2"
      ]
     },
     "execution_count": 189,
     "metadata": {},
     "output_type": "execute_result"
    }
   ],
   "source": [
    "np.linalg.matrix_rank(np.random.randint(0,2,(3,3)))"
   ]
  },
  {
   "cell_type": "markdown",
   "id": "1171cb84",
   "metadata": {},
   "source": [
    "#### 83. How to find the most frequent value in an array?"
   ]
  },
  {
   "cell_type": "code",
   "execution_count": null,
   "id": "33e951c8",
   "metadata": {},
   "outputs": [],
   "source": []
  },
  {
   "cell_type": "markdown",
   "id": "04f472aa",
   "metadata": {},
   "source": [
    "#### 84. Extract all the contiguous 3x3 blocks from a random 10x10 matrix (★★★)"
   ]
  },
  {
   "cell_type": "code",
   "execution_count": null,
   "id": "7aade14a",
   "metadata": {},
   "outputs": [],
   "source": []
  },
  {
   "cell_type": "markdown",
   "id": "52836346",
   "metadata": {},
   "source": [
    "#### 85. Create a 2D array subclass such that Z[i,j] == Z[j,i] (★★★)"
   ]
  },
  {
   "cell_type": "code",
   "execution_count": null,
   "id": "4df70318",
   "metadata": {},
   "outputs": [],
   "source": []
  },
  {
   "cell_type": "markdown",
   "id": "78c43ee5",
   "metadata": {},
   "source": [
    "#### 86. Consider a set of p matrices with shape (n,n) and a set of p vectors with shape (n,1). How to compute the sum of of the p matrix products at once? (result has shape (n,1)) (★★★)"
   ]
  },
  {
   "cell_type": "code",
   "execution_count": null,
   "id": "32fd2c3b",
   "metadata": {},
   "outputs": [],
   "source": []
  },
  {
   "cell_type": "markdown",
   "id": "158f9945",
   "metadata": {},
   "source": [
    "#### 87. Consider a 16x16 array, how to get the block-sum (block size is 4x4)? (★★★)"
   ]
  },
  {
   "cell_type": "code",
   "execution_count": null,
   "id": "5a9b808f",
   "metadata": {},
   "outputs": [],
   "source": []
  },
  {
   "cell_type": "markdown",
   "id": "2e0ad860",
   "metadata": {},
   "source": [
    "#### 88. How to implement the Game of Life using numpy arrays? (★★★)"
   ]
  },
  {
   "cell_type": "code",
   "execution_count": null,
   "id": "574acff5",
   "metadata": {},
   "outputs": [],
   "source": []
  },
  {
   "cell_type": "markdown",
   "id": "69a892fa",
   "metadata": {},
   "source": [
    "#### 89. How to get the n largest values of an array (★★★)"
   ]
  },
  {
   "cell_type": "code",
   "execution_count": null,
   "id": "21b2bd48",
   "metadata": {},
   "outputs": [],
   "source": []
  },
  {
   "cell_type": "markdown",
   "id": "b55ccacc",
   "metadata": {},
   "source": [
    "#### 90. Given an arbitrary number of vectors, build the cartesian product (every combinations of every item) (★★★)"
   ]
  },
  {
   "cell_type": "code",
   "execution_count": null,
   "id": "4b645da4",
   "metadata": {},
   "outputs": [],
   "source": []
  },
  {
   "cell_type": "markdown",
   "id": "89187a23",
   "metadata": {},
   "source": [
    "#### 91. How to create a record array from a regular array? (★★★)"
   ]
  },
  {
   "cell_type": "code",
   "execution_count": 186,
   "id": "da94c71a",
   "metadata": {},
   "outputs": [
    {
     "data": {
      "text/plain": [
       "array([1, 2, 3])"
      ]
     },
     "execution_count": 186,
     "metadata": {},
     "output_type": "execute_result"
    }
   ],
   "source": [
    "x=np.array([1,2,3], dtype=[('x', '<f8'), ('y', '<i8')])\n",
    "x = x.view(np.recarray)\n",
    "x.x\n",
    "x.y\n",
    "Z = np.array([(\"Hello\", 2.5, 3),\n",
    "              (\"World\", 3.6, 2)])\n",
    "R = np.core.records.fromarrays(Z.T,\n",
    "                               names='col1, col2, col3',\n",
    "                               formats = 'S8, f8, i8')"
   ]
  },
  {
   "cell_type": "markdown",
   "id": "aa70d4ca",
   "metadata": {},
   "source": [
    "#### 92. Consider a large vector Z, compute Z to the power of 3 using 3 different methods (★★★)"
   ]
  },
  {
   "cell_type": "code",
   "execution_count": null,
   "id": "7cff1bf5",
   "metadata": {},
   "outputs": [],
   "source": []
  },
  {
   "cell_type": "markdown",
   "id": "5f79dd00",
   "metadata": {},
   "source": [
    "#### 93. Consider two arrays A and B of shape (8,3) and (2,2). How to find rows of A that contain elements of each row of B regardless of the order of the elements in B? (★★★)"
   ]
  },
  {
   "cell_type": "code",
   "execution_count": null,
   "id": "20c105b2",
   "metadata": {},
   "outputs": [],
   "source": []
  },
  {
   "cell_type": "markdown",
   "id": "a80570cd",
   "metadata": {},
   "source": [
    "#### 94. Considering a 10x3 matrix, extract rows with unequal values (e.g. [2,2,3]) (★★★)"
   ]
  },
  {
   "cell_type": "code",
   "execution_count": null,
   "id": "84db8de1",
   "metadata": {},
   "outputs": [],
   "source": []
  },
  {
   "cell_type": "markdown",
   "id": "ba154f43",
   "metadata": {},
   "source": [
    "#### 95. Convert a vector of ints into a matrix binary representation (★★★)"
   ]
  },
  {
   "cell_type": "code",
   "execution_count": null,
   "id": "cfa96e1b",
   "metadata": {},
   "outputs": [],
   "source": []
  },
  {
   "cell_type": "markdown",
   "id": "420e2343",
   "metadata": {},
   "source": [
    "#### 96. Given a two dimensional array, how to extract unique rows? (★★★)"
   ]
  },
  {
   "cell_type": "code",
   "execution_count": null,
   "id": "4680dfd0",
   "metadata": {},
   "outputs": [],
   "source": []
  },
  {
   "cell_type": "markdown",
   "id": "89fef2f3",
   "metadata": {},
   "source": [
    "#### 97. Considering 2 vectors A & B, write the einsum equivalent of inner, outer, sum, and mul function (★★★)"
   ]
  },
  {
   "cell_type": "code",
   "execution_count": null,
   "id": "bb9c14b2",
   "metadata": {},
   "outputs": [],
   "source": []
  },
  {
   "cell_type": "markdown",
   "id": "7ad5cc5f",
   "metadata": {},
   "source": [
    "#### 98. Considering a path described by two vectors (X,Y), how to sample it using equidistant samples (★★★)?"
   ]
  },
  {
   "cell_type": "code",
   "execution_count": null,
   "id": "0899d1d5",
   "metadata": {},
   "outputs": [],
   "source": []
  },
  {
   "cell_type": "markdown",
   "id": "2b69272e",
   "metadata": {},
   "source": [
    "#### 99. Given an integer n and a 2D array X, select from X the rows which can be interpreted as draws from a multinomial distribution with n degrees, i.e., the rows which only contain integers and which sum to n. (★★★)"
   ]
  },
  {
   "cell_type": "code",
   "execution_count": null,
   "id": "55c8b034",
   "metadata": {},
   "outputs": [],
   "source": []
  },
  {
   "cell_type": "markdown",
   "id": "59ab5516",
   "metadata": {},
   "source": [
    "#### 100. Compute bootstrapped 95% confidence intervals for the mean of a 1D array X (i.e., resample the elements of an array with replacement N times, compute the mean of each sample, and then compute percentiles over the means). (★★★)"
   ]
  },
  {
   "cell_type": "code",
   "execution_count": 182,
   "id": "450877d8",
   "metadata": {},
   "outputs": [
    {
     "name": "stdout",
     "output_type": "stream",
     "text": [
      "the 95% percentile is [0.48336308 0.51519822] and the real mean is 0.49896328283074476\n",
      "\n"
     ]
    }
   ],
   "source": [
    "import scipy\n",
    "from scipy import stats\n",
    "X = np.random.rand(100)\n",
    "M = np.mean(X)\n",
    "N = 1000\n",
    "num_of_reps = 300\n",
    "res = np.zeros(num_of_reps)\n",
    "for i in range(num_of_reps):\n",
    "    sample = np.random.choice(X,N)\n",
    "    res[i] = sample.mean()\n",
    "print(f'the 95% percentile is {np.percentile(res,[2.5,97.5])} and the real mean is {M}')\n",
    "print()\n",
    "#could i do it any better? "
   ]
  },
  {
   "cell_type": "code",
   "execution_count": null,
   "id": "cf8f96ef",
   "metadata": {},
   "outputs": [],
   "source": []
  }
 ],
 "metadata": {
  "kernelspec": {
   "display_name": ".venv",
   "language": "python",
   "name": "python3"
  },
  "language_info": {
   "codemirror_mode": {
    "name": "ipython",
    "version": 3
   },
   "file_extension": ".py",
   "mimetype": "text/x-python",
   "name": "python",
   "nbconvert_exporter": "python",
   "pygments_lexer": "ipython3",
   "version": "3.12.2"
  }
 },
 "nbformat": 4,
 "nbformat_minor": 5
}
